{
 "cells": [
  {
   "cell_type": "markdown",
   "id": "373176f3-74a9-490e-bad4-10b0bbb017a4",
   "metadata": {},
   "source": [
    "## Project Title :\n",
    "## Sales and Profit Analysis"
   ]
  },
  {
   "cell_type": "markdown",
   "id": "292f24dd-2a64-44dd-834f-538760677762",
   "metadata": {},
   "source": [
    "This project focuses on analyzing sales and profit trends over time, identifying top-performing categories and sub-categories, and deriving actionable insights for business growth. Using Python and libraries like pandas, matplotlib, and seaborn, we explore data-driven solutions to improve decision-making.\n",
    "\n",
    "\n",
    "1. What is the trend of sales and profit over time?\n",
    "2. Which regions contribute the most to sales and profit?\n",
    "3. Which cities and states are the most profitable?\n",
    "4. Which products are the most popular (highest quantity sold)?\n",
    "5. How do discounts affect profit margins across different categories and sub-categories?\n",
    "6. What is the customer segmentation based on sales and profit contribution?\n",
    "7. What is the shipping mode's impact on delivery time and customer satisfaction?"
   ]
  },
  {
   "cell_type": "markdown",
   "id": "479f0f8f-d64a-43dc-8f5f-74d97d2e1c00",
   "metadata": {},
   "source": [
    "## 🔍 Key Features:\n",
    "\n",
    "### Data Cleaning and Preparation:\n",
    "Handled missing values, date conversions, and ensured data consistency.\n",
    "### Sales and Profit Trends:\n",
    "Analyzed sales and profit trends over time using time-series analysis.\n",
    "### Top Categories and Sub-Categories:\n",
    "Identified the best-performing categories and sub-categories by sales and profit.\n",
    "### Negative Value Handling:\n",
    "Replaced negative profit values with the overall mean to ensure accuracy.\n",
    "### Interactive Visualizations:\n",
    "Created Boxplots, Bar Chart, Pie Chart, Stacked Bar Charts and Line charts for better data understanding.\n",
    "\n",
    "## 🛠️ Tools and Libraries:\n",
    "\n",
    "### Programming Language:\n",
    "Python\n",
    "### Libraries:\n",
    "pandas for data manipulation\n",
    "\n",
    "matplotlib and seaborn for data visualization\n",
    "\n",
    "numpy for numerical operations"
   ]
  },
  {
   "cell_type": "markdown",
   "id": "3938b07e-7475-444f-afd3-536b9b376d0a",
   "metadata": {},
   "source": [
    "## Coding part:"
   ]
  },
  {
   "cell_type": "code",
   "execution_count": 144,
   "id": "8122e1db-fe0e-4915-9e99-bb23c8e5b9dc",
   "metadata": {},
   "outputs": [],
   "source": [
    "import numpy as np\n",
    "import pandas as pd\n",
    "import matplotlib.pyplot as plt\n",
    "import seaborn as sns"
   ]
  },
  {
   "cell_type": "code",
   "execution_count": 74,
   "id": "954a4e08-8320-4214-90d9-92a755a06465",
   "metadata": {},
   "outputs": [],
   "source": [
    "# Load the Dataset\n",
    "data = pd.read_csv(r\"C:\\Users\\Chethan Vakiti\\Downloads\\archive (4)\\Sample - Superstore.csv\" ,encoding='latin1')"
   ]
  },
  {
   "cell_type": "code",
   "execution_count": 76,
   "id": "796bcada-61cc-4d03-b0f1-b3c3ab8231c4",
   "metadata": {},
   "outputs": [],
   "source": [
    "# Copy the Data\n",
    "df= data.copy()"
   ]
  },
  {
   "cell_type": "code",
   "execution_count": 78,
   "id": "e7007281-efe3-4eee-a92c-88cea3b6182f",
   "metadata": {},
   "outputs": [
    {
     "data": {
      "text/html": [
       "<div>\n",
       "<style scoped>\n",
       "    .dataframe tbody tr th:only-of-type {\n",
       "        vertical-align: middle;\n",
       "    }\n",
       "\n",
       "    .dataframe tbody tr th {\n",
       "        vertical-align: top;\n",
       "    }\n",
       "\n",
       "    .dataframe thead th {\n",
       "        text-align: right;\n",
       "    }\n",
       "</style>\n",
       "<table border=\"1\" class=\"dataframe\">\n",
       "  <thead>\n",
       "    <tr style=\"text-align: right;\">\n",
       "      <th></th>\n",
       "      <th>Row ID</th>\n",
       "      <th>Order ID</th>\n",
       "      <th>Order Date</th>\n",
       "      <th>Ship Date</th>\n",
       "      <th>Ship Mode</th>\n",
       "      <th>Customer ID</th>\n",
       "      <th>Customer Name</th>\n",
       "      <th>Segment</th>\n",
       "      <th>Country</th>\n",
       "      <th>City</th>\n",
       "      <th>...</th>\n",
       "      <th>Postal Code</th>\n",
       "      <th>Region</th>\n",
       "      <th>Product ID</th>\n",
       "      <th>Category</th>\n",
       "      <th>Sub-Category</th>\n",
       "      <th>Product Name</th>\n",
       "      <th>Sales</th>\n",
       "      <th>Quantity</th>\n",
       "      <th>Discount</th>\n",
       "      <th>Profit</th>\n",
       "    </tr>\n",
       "  </thead>\n",
       "  <tbody>\n",
       "    <tr>\n",
       "      <th>0</th>\n",
       "      <td>1</td>\n",
       "      <td>CA-2016-152156</td>\n",
       "      <td>11/8/2016</td>\n",
       "      <td>11/11/2016</td>\n",
       "      <td>Second Class</td>\n",
       "      <td>CG-12520</td>\n",
       "      <td>Claire Gute</td>\n",
       "      <td>Consumer</td>\n",
       "      <td>United States</td>\n",
       "      <td>Henderson</td>\n",
       "      <td>...</td>\n",
       "      <td>42420</td>\n",
       "      <td>South</td>\n",
       "      <td>FUR-BO-10001798</td>\n",
       "      <td>Furniture</td>\n",
       "      <td>Bookcases</td>\n",
       "      <td>Bush Somerset Collection Bookcase</td>\n",
       "      <td>261.96</td>\n",
       "      <td>2</td>\n",
       "      <td>0.0</td>\n",
       "      <td>41.9136</td>\n",
       "    </tr>\n",
       "    <tr>\n",
       "      <th>1</th>\n",
       "      <td>2</td>\n",
       "      <td>CA-2016-152156</td>\n",
       "      <td>11/8/2016</td>\n",
       "      <td>11/11/2016</td>\n",
       "      <td>Second Class</td>\n",
       "      <td>CG-12520</td>\n",
       "      <td>Claire Gute</td>\n",
       "      <td>Consumer</td>\n",
       "      <td>United States</td>\n",
       "      <td>Henderson</td>\n",
       "      <td>...</td>\n",
       "      <td>42420</td>\n",
       "      <td>South</td>\n",
       "      <td>FUR-CH-10000454</td>\n",
       "      <td>Furniture</td>\n",
       "      <td>Chairs</td>\n",
       "      <td>Hon Deluxe Fabric Upholstered Stacking Chairs,...</td>\n",
       "      <td>731.94</td>\n",
       "      <td>3</td>\n",
       "      <td>0.0</td>\n",
       "      <td>219.5820</td>\n",
       "    </tr>\n",
       "    <tr>\n",
       "      <th>2</th>\n",
       "      <td>3</td>\n",
       "      <td>CA-2016-138688</td>\n",
       "      <td>6/12/2016</td>\n",
       "      <td>6/16/2016</td>\n",
       "      <td>Second Class</td>\n",
       "      <td>DV-13045</td>\n",
       "      <td>Darrin Van Huff</td>\n",
       "      <td>Corporate</td>\n",
       "      <td>United States</td>\n",
       "      <td>Los Angeles</td>\n",
       "      <td>...</td>\n",
       "      <td>90036</td>\n",
       "      <td>West</td>\n",
       "      <td>OFF-LA-10000240</td>\n",
       "      <td>Office Supplies</td>\n",
       "      <td>Labels</td>\n",
       "      <td>Self-Adhesive Address Labels for Typewriters b...</td>\n",
       "      <td>14.62</td>\n",
       "      <td>2</td>\n",
       "      <td>0.0</td>\n",
       "      <td>6.8714</td>\n",
       "    </tr>\n",
       "  </tbody>\n",
       "</table>\n",
       "<p>3 rows × 21 columns</p>\n",
       "</div>"
      ],
      "text/plain": [
       "   Row ID        Order ID Order Date   Ship Date     Ship Mode Customer ID  \\\n",
       "0       1  CA-2016-152156  11/8/2016  11/11/2016  Second Class    CG-12520   \n",
       "1       2  CA-2016-152156  11/8/2016  11/11/2016  Second Class    CG-12520   \n",
       "2       3  CA-2016-138688  6/12/2016   6/16/2016  Second Class    DV-13045   \n",
       "\n",
       "     Customer Name    Segment        Country         City  ... Postal Code  \\\n",
       "0      Claire Gute   Consumer  United States    Henderson  ...       42420   \n",
       "1      Claire Gute   Consumer  United States    Henderson  ...       42420   \n",
       "2  Darrin Van Huff  Corporate  United States  Los Angeles  ...       90036   \n",
       "\n",
       "   Region       Product ID         Category Sub-Category  \\\n",
       "0   South  FUR-BO-10001798        Furniture    Bookcases   \n",
       "1   South  FUR-CH-10000454        Furniture       Chairs   \n",
       "2    West  OFF-LA-10000240  Office Supplies       Labels   \n",
       "\n",
       "                                        Product Name   Sales  Quantity  \\\n",
       "0                  Bush Somerset Collection Bookcase  261.96         2   \n",
       "1  Hon Deluxe Fabric Upholstered Stacking Chairs,...  731.94         3   \n",
       "2  Self-Adhesive Address Labels for Typewriters b...   14.62         2   \n",
       "\n",
       "   Discount    Profit  \n",
       "0       0.0   41.9136  \n",
       "1       0.0  219.5820  \n",
       "2       0.0    6.8714  \n",
       "\n",
       "[3 rows x 21 columns]"
      ]
     },
     "execution_count": 78,
     "metadata": {},
     "output_type": "execute_result"
    }
   ],
   "source": [
    "df.head(3)"
   ]
  },
  {
   "cell_type": "code",
   "execution_count": 80,
   "id": "6e4b5168-283e-4803-9ced-cedb8d553bab",
   "metadata": {},
   "outputs": [
    {
     "data": {
      "text/plain": [
       "(9994, 21)"
      ]
     },
     "execution_count": 80,
     "metadata": {},
     "output_type": "execute_result"
    }
   ],
   "source": [
    "df.shape"
   ]
  },
  {
   "cell_type": "markdown",
   "id": "1e65d910-b5bc-4c90-ac5b-dfc4e2f123db",
   "metadata": {},
   "source": [
    "\n",
    "Data Integrity:"
   ]
  },
  {
   "cell_type": "code",
   "execution_count": 83,
   "id": "dd7e0b93-cc6d-48a7-b357-fa9b1f06998c",
   "metadata": {},
   "outputs": [
    {
     "name": "stdout",
     "output_type": "stream",
     "text": [
      "<class 'pandas.core.frame.DataFrame'>\n",
      "RangeIndex: 9994 entries, 0 to 9993\n",
      "Data columns (total 21 columns):\n",
      " #   Column         Non-Null Count  Dtype  \n",
      "---  ------         --------------  -----  \n",
      " 0   Row ID         9994 non-null   int64  \n",
      " 1   Order ID       9994 non-null   object \n",
      " 2   Order Date     9994 non-null   object \n",
      " 3   Ship Date      9994 non-null   object \n",
      " 4   Ship Mode      9994 non-null   object \n",
      " 5   Customer ID    9994 non-null   object \n",
      " 6   Customer Name  9994 non-null   object \n",
      " 7   Segment        9994 non-null   object \n",
      " 8   Country        9994 non-null   object \n",
      " 9   City           9994 non-null   object \n",
      " 10  State          9994 non-null   object \n",
      " 11  Postal Code    9994 non-null   int64  \n",
      " 12  Region         9994 non-null   object \n",
      " 13  Product ID     9994 non-null   object \n",
      " 14  Category       9994 non-null   object \n",
      " 15  Sub-Category   9994 non-null   object \n",
      " 16  Product Name   9994 non-null   object \n",
      " 17  Sales          9994 non-null   float64\n",
      " 18  Quantity       9994 non-null   int64  \n",
      " 19  Discount       9994 non-null   float64\n",
      " 20  Profit         9994 non-null   float64\n",
      "dtypes: float64(3), int64(3), object(15)\n",
      "memory usage: 1.6+ MB\n"
     ]
    }
   ],
   "source": [
    "df.info()"
   ]
  },
  {
   "cell_type": "code",
   "execution_count": 85,
   "id": "99f3efb5-4d30-40e8-a3b2-b97095f27a16",
   "metadata": {},
   "outputs": [
    {
     "data": {
      "text/html": [
       "<div>\n",
       "<style scoped>\n",
       "    .dataframe tbody tr th:only-of-type {\n",
       "        vertical-align: middle;\n",
       "    }\n",
       "\n",
       "    .dataframe tbody tr th {\n",
       "        vertical-align: top;\n",
       "    }\n",
       "\n",
       "    .dataframe thead th {\n",
       "        text-align: right;\n",
       "    }\n",
       "</style>\n",
       "<table border=\"1\" class=\"dataframe\">\n",
       "  <thead>\n",
       "    <tr style=\"text-align: right;\">\n",
       "      <th></th>\n",
       "      <th>Row ID</th>\n",
       "      <th>Postal Code</th>\n",
       "      <th>Sales</th>\n",
       "      <th>Quantity</th>\n",
       "      <th>Discount</th>\n",
       "      <th>Profit</th>\n",
       "    </tr>\n",
       "  </thead>\n",
       "  <tbody>\n",
       "    <tr>\n",
       "      <th>count</th>\n",
       "      <td>9994.000000</td>\n",
       "      <td>9994.000000</td>\n",
       "      <td>9994.000000</td>\n",
       "      <td>9994.000000</td>\n",
       "      <td>9994.000000</td>\n",
       "      <td>9994.000000</td>\n",
       "    </tr>\n",
       "    <tr>\n",
       "      <th>mean</th>\n",
       "      <td>4997.500000</td>\n",
       "      <td>55190.379428</td>\n",
       "      <td>229.858001</td>\n",
       "      <td>3.789574</td>\n",
       "      <td>0.156203</td>\n",
       "      <td>28.656896</td>\n",
       "    </tr>\n",
       "    <tr>\n",
       "      <th>std</th>\n",
       "      <td>2885.163629</td>\n",
       "      <td>32063.693350</td>\n",
       "      <td>623.245101</td>\n",
       "      <td>2.225110</td>\n",
       "      <td>0.206452</td>\n",
       "      <td>234.260108</td>\n",
       "    </tr>\n",
       "    <tr>\n",
       "      <th>min</th>\n",
       "      <td>1.000000</td>\n",
       "      <td>1040.000000</td>\n",
       "      <td>0.444000</td>\n",
       "      <td>1.000000</td>\n",
       "      <td>0.000000</td>\n",
       "      <td>-6599.978000</td>\n",
       "    </tr>\n",
       "    <tr>\n",
       "      <th>25%</th>\n",
       "      <td>2499.250000</td>\n",
       "      <td>23223.000000</td>\n",
       "      <td>17.280000</td>\n",
       "      <td>2.000000</td>\n",
       "      <td>0.000000</td>\n",
       "      <td>1.728750</td>\n",
       "    </tr>\n",
       "    <tr>\n",
       "      <th>50%</th>\n",
       "      <td>4997.500000</td>\n",
       "      <td>56430.500000</td>\n",
       "      <td>54.490000</td>\n",
       "      <td>3.000000</td>\n",
       "      <td>0.200000</td>\n",
       "      <td>8.666500</td>\n",
       "    </tr>\n",
       "    <tr>\n",
       "      <th>75%</th>\n",
       "      <td>7495.750000</td>\n",
       "      <td>90008.000000</td>\n",
       "      <td>209.940000</td>\n",
       "      <td>5.000000</td>\n",
       "      <td>0.200000</td>\n",
       "      <td>29.364000</td>\n",
       "    </tr>\n",
       "    <tr>\n",
       "      <th>max</th>\n",
       "      <td>9994.000000</td>\n",
       "      <td>99301.000000</td>\n",
       "      <td>22638.480000</td>\n",
       "      <td>14.000000</td>\n",
       "      <td>0.800000</td>\n",
       "      <td>8399.976000</td>\n",
       "    </tr>\n",
       "  </tbody>\n",
       "</table>\n",
       "</div>"
      ],
      "text/plain": [
       "            Row ID   Postal Code         Sales     Quantity     Discount  \\\n",
       "count  9994.000000   9994.000000   9994.000000  9994.000000  9994.000000   \n",
       "mean   4997.500000  55190.379428    229.858001     3.789574     0.156203   \n",
       "std    2885.163629  32063.693350    623.245101     2.225110     0.206452   \n",
       "min       1.000000   1040.000000      0.444000     1.000000     0.000000   \n",
       "25%    2499.250000  23223.000000     17.280000     2.000000     0.000000   \n",
       "50%    4997.500000  56430.500000     54.490000     3.000000     0.200000   \n",
       "75%    7495.750000  90008.000000    209.940000     5.000000     0.200000   \n",
       "max    9994.000000  99301.000000  22638.480000    14.000000     0.800000   \n",
       "\n",
       "            Profit  \n",
       "count  9994.000000  \n",
       "mean     28.656896  \n",
       "std     234.260108  \n",
       "min   -6599.978000  \n",
       "25%       1.728750  \n",
       "50%       8.666500  \n",
       "75%      29.364000  \n",
       "max    8399.976000  "
      ]
     },
     "execution_count": 85,
     "metadata": {},
     "output_type": "execute_result"
    }
   ],
   "source": [
    "df.describe()"
   ]
  },
  {
   "cell_type": "code",
   "execution_count": 87,
   "id": "982c22f1-3986-4777-9f71-6811a77cdac8",
   "metadata": {},
   "outputs": [
    {
     "data": {
      "text/html": [
       "<div>\n",
       "<style scoped>\n",
       "    .dataframe tbody tr th:only-of-type {\n",
       "        vertical-align: middle;\n",
       "    }\n",
       "\n",
       "    .dataframe tbody tr th {\n",
       "        vertical-align: top;\n",
       "    }\n",
       "\n",
       "    .dataframe thead th {\n",
       "        text-align: right;\n",
       "    }\n",
       "</style>\n",
       "<table border=\"1\" class=\"dataframe\">\n",
       "  <thead>\n",
       "    <tr style=\"text-align: right;\">\n",
       "      <th></th>\n",
       "      <th>Row ID</th>\n",
       "      <th>Order ID</th>\n",
       "      <th>Order Date</th>\n",
       "      <th>Ship Date</th>\n",
       "      <th>Ship Mode</th>\n",
       "      <th>Customer ID</th>\n",
       "      <th>Customer Name</th>\n",
       "      <th>Segment</th>\n",
       "      <th>Country</th>\n",
       "      <th>City</th>\n",
       "      <th>...</th>\n",
       "      <th>Postal Code</th>\n",
       "      <th>Region</th>\n",
       "      <th>Product ID</th>\n",
       "      <th>Category</th>\n",
       "      <th>Sub-Category</th>\n",
       "      <th>Product Name</th>\n",
       "      <th>Sales</th>\n",
       "      <th>Quantity</th>\n",
       "      <th>Discount</th>\n",
       "      <th>Profit</th>\n",
       "    </tr>\n",
       "  </thead>\n",
       "  <tbody>\n",
       "    <tr>\n",
       "      <th>count</th>\n",
       "      <td>9994.000000</td>\n",
       "      <td>9994</td>\n",
       "      <td>9994</td>\n",
       "      <td>9994</td>\n",
       "      <td>9994</td>\n",
       "      <td>9994</td>\n",
       "      <td>9994</td>\n",
       "      <td>9994</td>\n",
       "      <td>9994</td>\n",
       "      <td>9994</td>\n",
       "      <td>...</td>\n",
       "      <td>9994.000000</td>\n",
       "      <td>9994</td>\n",
       "      <td>9994</td>\n",
       "      <td>9994</td>\n",
       "      <td>9994</td>\n",
       "      <td>9994</td>\n",
       "      <td>9994.000000</td>\n",
       "      <td>9994.000000</td>\n",
       "      <td>9994.000000</td>\n",
       "      <td>9994.000000</td>\n",
       "    </tr>\n",
       "    <tr>\n",
       "      <th>unique</th>\n",
       "      <td>NaN</td>\n",
       "      <td>5009</td>\n",
       "      <td>1237</td>\n",
       "      <td>1334</td>\n",
       "      <td>4</td>\n",
       "      <td>793</td>\n",
       "      <td>793</td>\n",
       "      <td>3</td>\n",
       "      <td>1</td>\n",
       "      <td>531</td>\n",
       "      <td>...</td>\n",
       "      <td>NaN</td>\n",
       "      <td>4</td>\n",
       "      <td>1862</td>\n",
       "      <td>3</td>\n",
       "      <td>17</td>\n",
       "      <td>1850</td>\n",
       "      <td>NaN</td>\n",
       "      <td>NaN</td>\n",
       "      <td>NaN</td>\n",
       "      <td>NaN</td>\n",
       "    </tr>\n",
       "    <tr>\n",
       "      <th>top</th>\n",
       "      <td>NaN</td>\n",
       "      <td>CA-2017-100111</td>\n",
       "      <td>9/5/2016</td>\n",
       "      <td>12/16/2015</td>\n",
       "      <td>Standard Class</td>\n",
       "      <td>WB-21850</td>\n",
       "      <td>William Brown</td>\n",
       "      <td>Consumer</td>\n",
       "      <td>United States</td>\n",
       "      <td>New York City</td>\n",
       "      <td>...</td>\n",
       "      <td>NaN</td>\n",
       "      <td>West</td>\n",
       "      <td>OFF-PA-10001970</td>\n",
       "      <td>Office Supplies</td>\n",
       "      <td>Binders</td>\n",
       "      <td>Staple envelope</td>\n",
       "      <td>NaN</td>\n",
       "      <td>NaN</td>\n",
       "      <td>NaN</td>\n",
       "      <td>NaN</td>\n",
       "    </tr>\n",
       "    <tr>\n",
       "      <th>freq</th>\n",
       "      <td>NaN</td>\n",
       "      <td>14</td>\n",
       "      <td>38</td>\n",
       "      <td>35</td>\n",
       "      <td>5968</td>\n",
       "      <td>37</td>\n",
       "      <td>37</td>\n",
       "      <td>5191</td>\n",
       "      <td>9994</td>\n",
       "      <td>915</td>\n",
       "      <td>...</td>\n",
       "      <td>NaN</td>\n",
       "      <td>3203</td>\n",
       "      <td>19</td>\n",
       "      <td>6026</td>\n",
       "      <td>1523</td>\n",
       "      <td>48</td>\n",
       "      <td>NaN</td>\n",
       "      <td>NaN</td>\n",
       "      <td>NaN</td>\n",
       "      <td>NaN</td>\n",
       "    </tr>\n",
       "    <tr>\n",
       "      <th>mean</th>\n",
       "      <td>4997.500000</td>\n",
       "      <td>NaN</td>\n",
       "      <td>NaN</td>\n",
       "      <td>NaN</td>\n",
       "      <td>NaN</td>\n",
       "      <td>NaN</td>\n",
       "      <td>NaN</td>\n",
       "      <td>NaN</td>\n",
       "      <td>NaN</td>\n",
       "      <td>NaN</td>\n",
       "      <td>...</td>\n",
       "      <td>55190.379428</td>\n",
       "      <td>NaN</td>\n",
       "      <td>NaN</td>\n",
       "      <td>NaN</td>\n",
       "      <td>NaN</td>\n",
       "      <td>NaN</td>\n",
       "      <td>229.858001</td>\n",
       "      <td>3.789574</td>\n",
       "      <td>0.156203</td>\n",
       "      <td>28.656896</td>\n",
       "    </tr>\n",
       "    <tr>\n",
       "      <th>std</th>\n",
       "      <td>2885.163629</td>\n",
       "      <td>NaN</td>\n",
       "      <td>NaN</td>\n",
       "      <td>NaN</td>\n",
       "      <td>NaN</td>\n",
       "      <td>NaN</td>\n",
       "      <td>NaN</td>\n",
       "      <td>NaN</td>\n",
       "      <td>NaN</td>\n",
       "      <td>NaN</td>\n",
       "      <td>...</td>\n",
       "      <td>32063.693350</td>\n",
       "      <td>NaN</td>\n",
       "      <td>NaN</td>\n",
       "      <td>NaN</td>\n",
       "      <td>NaN</td>\n",
       "      <td>NaN</td>\n",
       "      <td>623.245101</td>\n",
       "      <td>2.225110</td>\n",
       "      <td>0.206452</td>\n",
       "      <td>234.260108</td>\n",
       "    </tr>\n",
       "    <tr>\n",
       "      <th>min</th>\n",
       "      <td>1.000000</td>\n",
       "      <td>NaN</td>\n",
       "      <td>NaN</td>\n",
       "      <td>NaN</td>\n",
       "      <td>NaN</td>\n",
       "      <td>NaN</td>\n",
       "      <td>NaN</td>\n",
       "      <td>NaN</td>\n",
       "      <td>NaN</td>\n",
       "      <td>NaN</td>\n",
       "      <td>...</td>\n",
       "      <td>1040.000000</td>\n",
       "      <td>NaN</td>\n",
       "      <td>NaN</td>\n",
       "      <td>NaN</td>\n",
       "      <td>NaN</td>\n",
       "      <td>NaN</td>\n",
       "      <td>0.444000</td>\n",
       "      <td>1.000000</td>\n",
       "      <td>0.000000</td>\n",
       "      <td>-6599.978000</td>\n",
       "    </tr>\n",
       "    <tr>\n",
       "      <th>25%</th>\n",
       "      <td>2499.250000</td>\n",
       "      <td>NaN</td>\n",
       "      <td>NaN</td>\n",
       "      <td>NaN</td>\n",
       "      <td>NaN</td>\n",
       "      <td>NaN</td>\n",
       "      <td>NaN</td>\n",
       "      <td>NaN</td>\n",
       "      <td>NaN</td>\n",
       "      <td>NaN</td>\n",
       "      <td>...</td>\n",
       "      <td>23223.000000</td>\n",
       "      <td>NaN</td>\n",
       "      <td>NaN</td>\n",
       "      <td>NaN</td>\n",
       "      <td>NaN</td>\n",
       "      <td>NaN</td>\n",
       "      <td>17.280000</td>\n",
       "      <td>2.000000</td>\n",
       "      <td>0.000000</td>\n",
       "      <td>1.728750</td>\n",
       "    </tr>\n",
       "    <tr>\n",
       "      <th>50%</th>\n",
       "      <td>4997.500000</td>\n",
       "      <td>NaN</td>\n",
       "      <td>NaN</td>\n",
       "      <td>NaN</td>\n",
       "      <td>NaN</td>\n",
       "      <td>NaN</td>\n",
       "      <td>NaN</td>\n",
       "      <td>NaN</td>\n",
       "      <td>NaN</td>\n",
       "      <td>NaN</td>\n",
       "      <td>...</td>\n",
       "      <td>56430.500000</td>\n",
       "      <td>NaN</td>\n",
       "      <td>NaN</td>\n",
       "      <td>NaN</td>\n",
       "      <td>NaN</td>\n",
       "      <td>NaN</td>\n",
       "      <td>54.490000</td>\n",
       "      <td>3.000000</td>\n",
       "      <td>0.200000</td>\n",
       "      <td>8.666500</td>\n",
       "    </tr>\n",
       "    <tr>\n",
       "      <th>75%</th>\n",
       "      <td>7495.750000</td>\n",
       "      <td>NaN</td>\n",
       "      <td>NaN</td>\n",
       "      <td>NaN</td>\n",
       "      <td>NaN</td>\n",
       "      <td>NaN</td>\n",
       "      <td>NaN</td>\n",
       "      <td>NaN</td>\n",
       "      <td>NaN</td>\n",
       "      <td>NaN</td>\n",
       "      <td>...</td>\n",
       "      <td>90008.000000</td>\n",
       "      <td>NaN</td>\n",
       "      <td>NaN</td>\n",
       "      <td>NaN</td>\n",
       "      <td>NaN</td>\n",
       "      <td>NaN</td>\n",
       "      <td>209.940000</td>\n",
       "      <td>5.000000</td>\n",
       "      <td>0.200000</td>\n",
       "      <td>29.364000</td>\n",
       "    </tr>\n",
       "    <tr>\n",
       "      <th>max</th>\n",
       "      <td>9994.000000</td>\n",
       "      <td>NaN</td>\n",
       "      <td>NaN</td>\n",
       "      <td>NaN</td>\n",
       "      <td>NaN</td>\n",
       "      <td>NaN</td>\n",
       "      <td>NaN</td>\n",
       "      <td>NaN</td>\n",
       "      <td>NaN</td>\n",
       "      <td>NaN</td>\n",
       "      <td>...</td>\n",
       "      <td>99301.000000</td>\n",
       "      <td>NaN</td>\n",
       "      <td>NaN</td>\n",
       "      <td>NaN</td>\n",
       "      <td>NaN</td>\n",
       "      <td>NaN</td>\n",
       "      <td>22638.480000</td>\n",
       "      <td>14.000000</td>\n",
       "      <td>0.800000</td>\n",
       "      <td>8399.976000</td>\n",
       "    </tr>\n",
       "  </tbody>\n",
       "</table>\n",
       "<p>11 rows × 21 columns</p>\n",
       "</div>"
      ],
      "text/plain": [
       "             Row ID        Order ID Order Date   Ship Date       Ship Mode  \\\n",
       "count   9994.000000            9994       9994        9994            9994   \n",
       "unique          NaN            5009       1237        1334               4   \n",
       "top             NaN  CA-2017-100111   9/5/2016  12/16/2015  Standard Class   \n",
       "freq            NaN              14         38          35            5968   \n",
       "mean    4997.500000             NaN        NaN         NaN             NaN   \n",
       "std     2885.163629             NaN        NaN         NaN             NaN   \n",
       "min        1.000000             NaN        NaN         NaN             NaN   \n",
       "25%     2499.250000             NaN        NaN         NaN             NaN   \n",
       "50%     4997.500000             NaN        NaN         NaN             NaN   \n",
       "75%     7495.750000             NaN        NaN         NaN             NaN   \n",
       "max     9994.000000             NaN        NaN         NaN             NaN   \n",
       "\n",
       "       Customer ID  Customer Name   Segment        Country           City  \\\n",
       "count         9994           9994      9994           9994           9994   \n",
       "unique         793            793         3              1            531   \n",
       "top       WB-21850  William Brown  Consumer  United States  New York City   \n",
       "freq            37             37      5191           9994            915   \n",
       "mean           NaN            NaN       NaN            NaN            NaN   \n",
       "std            NaN            NaN       NaN            NaN            NaN   \n",
       "min            NaN            NaN       NaN            NaN            NaN   \n",
       "25%            NaN            NaN       NaN            NaN            NaN   \n",
       "50%            NaN            NaN       NaN            NaN            NaN   \n",
       "75%            NaN            NaN       NaN            NaN            NaN   \n",
       "max            NaN            NaN       NaN            NaN            NaN   \n",
       "\n",
       "        ...   Postal Code  Region       Product ID         Category  \\\n",
       "count   ...   9994.000000    9994             9994             9994   \n",
       "unique  ...           NaN       4             1862                3   \n",
       "top     ...           NaN    West  OFF-PA-10001970  Office Supplies   \n",
       "freq    ...           NaN    3203               19             6026   \n",
       "mean    ...  55190.379428     NaN              NaN              NaN   \n",
       "std     ...  32063.693350     NaN              NaN              NaN   \n",
       "min     ...   1040.000000     NaN              NaN              NaN   \n",
       "25%     ...  23223.000000     NaN              NaN              NaN   \n",
       "50%     ...  56430.500000     NaN              NaN              NaN   \n",
       "75%     ...  90008.000000     NaN              NaN              NaN   \n",
       "max     ...  99301.000000     NaN              NaN              NaN   \n",
       "\n",
       "       Sub-Category     Product Name         Sales     Quantity     Discount  \\\n",
       "count          9994             9994   9994.000000  9994.000000  9994.000000   \n",
       "unique           17             1850           NaN          NaN          NaN   \n",
       "top         Binders  Staple envelope           NaN          NaN          NaN   \n",
       "freq           1523               48           NaN          NaN          NaN   \n",
       "mean            NaN              NaN    229.858001     3.789574     0.156203   \n",
       "std             NaN              NaN    623.245101     2.225110     0.206452   \n",
       "min             NaN              NaN      0.444000     1.000000     0.000000   \n",
       "25%             NaN              NaN     17.280000     2.000000     0.000000   \n",
       "50%             NaN              NaN     54.490000     3.000000     0.200000   \n",
       "75%             NaN              NaN    209.940000     5.000000     0.200000   \n",
       "max             NaN              NaN  22638.480000    14.000000     0.800000   \n",
       "\n",
       "             Profit  \n",
       "count   9994.000000  \n",
       "unique          NaN  \n",
       "top             NaN  \n",
       "freq            NaN  \n",
       "mean      28.656896  \n",
       "std      234.260108  \n",
       "min    -6599.978000  \n",
       "25%        1.728750  \n",
       "50%        8.666500  \n",
       "75%       29.364000  \n",
       "max     8399.976000  \n",
       "\n",
       "[11 rows x 21 columns]"
      ]
     },
     "execution_count": 87,
     "metadata": {},
     "output_type": "execute_result"
    }
   ],
   "source": [
    "df.describe(include = \"all\")"
   ]
  },
  {
   "cell_type": "code",
   "execution_count": 89,
   "id": "8e477a06-3a02-466d-bb2f-e692585ad938",
   "metadata": {},
   "outputs": [
    {
     "data": {
      "text/plain": [
       "Row ID             int64\n",
       "Order ID          object\n",
       "Order Date        object\n",
       "Ship Date         object\n",
       "Ship Mode         object\n",
       "Customer ID       object\n",
       "Customer Name     object\n",
       "Segment           object\n",
       "Country           object\n",
       "City              object\n",
       "State             object\n",
       "Postal Code        int64\n",
       "Region            object\n",
       "Product ID        object\n",
       "Category          object\n",
       "Sub-Category      object\n",
       "Product Name      object\n",
       "Sales            float64\n",
       "Quantity           int64\n",
       "Discount         float64\n",
       "Profit           float64\n",
       "dtype: object"
      ]
     },
     "execution_count": 89,
     "metadata": {},
     "output_type": "execute_result"
    }
   ],
   "source": [
    "df.dtypes"
   ]
  },
  {
   "cell_type": "code",
   "execution_count": 91,
   "id": "ca9634e0-3663-4630-8855-abae24ada06f",
   "metadata": {},
   "outputs": [
    {
     "data": {
      "text/html": [
       "<div>\n",
       "<style scoped>\n",
       "    .dataframe tbody tr th:only-of-type {\n",
       "        vertical-align: middle;\n",
       "    }\n",
       "\n",
       "    .dataframe tbody tr th {\n",
       "        vertical-align: top;\n",
       "    }\n",
       "\n",
       "    .dataframe thead th {\n",
       "        text-align: right;\n",
       "    }\n",
       "</style>\n",
       "<table border=\"1\" class=\"dataframe\">\n",
       "  <thead>\n",
       "    <tr style=\"text-align: right;\">\n",
       "      <th></th>\n",
       "      <th>Sales</th>\n",
       "      <th>Discount</th>\n",
       "      <th>Profit</th>\n",
       "    </tr>\n",
       "  </thead>\n",
       "  <tbody>\n",
       "    <tr>\n",
       "      <th>0</th>\n",
       "      <td>261.9600</td>\n",
       "      <td>0.00</td>\n",
       "      <td>41.9136</td>\n",
       "    </tr>\n",
       "    <tr>\n",
       "      <th>1</th>\n",
       "      <td>731.9400</td>\n",
       "      <td>0.00</td>\n",
       "      <td>219.5820</td>\n",
       "    </tr>\n",
       "    <tr>\n",
       "      <th>2</th>\n",
       "      <td>14.6200</td>\n",
       "      <td>0.00</td>\n",
       "      <td>6.8714</td>\n",
       "    </tr>\n",
       "    <tr>\n",
       "      <th>3</th>\n",
       "      <td>957.5775</td>\n",
       "      <td>0.45</td>\n",
       "      <td>-383.0310</td>\n",
       "    </tr>\n",
       "    <tr>\n",
       "      <th>4</th>\n",
       "      <td>22.3680</td>\n",
       "      <td>0.20</td>\n",
       "      <td>2.5164</td>\n",
       "    </tr>\n",
       "  </tbody>\n",
       "</table>\n",
       "</div>"
      ],
      "text/plain": [
       "      Sales  Discount    Profit\n",
       "0  261.9600      0.00   41.9136\n",
       "1  731.9400      0.00  219.5820\n",
       "2   14.6200      0.00    6.8714\n",
       "3  957.5775      0.45 -383.0310\n",
       "4   22.3680      0.20    2.5164"
      ]
     },
     "execution_count": 91,
     "metadata": {},
     "output_type": "execute_result"
    }
   ],
   "source": [
    "#Columns that contain Float Values\n",
    "float_type = df[['Sales', 'Discount', 'Profit']]\n",
    "float_type.head()"
   ]
  },
  {
   "cell_type": "code",
   "execution_count": 93,
   "id": "0aeda360-9261-4ec3-b9fb-59e8e74630c5",
   "metadata": {},
   "outputs": [
    {
     "data": {
      "text/html": [
       "<div>\n",
       "<style scoped>\n",
       "    .dataframe tbody tr th:only-of-type {\n",
       "        vertical-align: middle;\n",
       "    }\n",
       "\n",
       "    .dataframe tbody tr th {\n",
       "        vertical-align: top;\n",
       "    }\n",
       "\n",
       "    .dataframe thead th {\n",
       "        text-align: right;\n",
       "    }\n",
       "</style>\n",
       "<table border=\"1\" class=\"dataframe\">\n",
       "  <thead>\n",
       "    <tr style=\"text-align: right;\">\n",
       "      <th></th>\n",
       "      <th>Row ID</th>\n",
       "      <th>Order ID</th>\n",
       "      <th>Ship Mode</th>\n",
       "      <th>Customer ID</th>\n",
       "      <th>Customer Name</th>\n",
       "      <th>Segment</th>\n",
       "      <th>City</th>\n",
       "      <th>State</th>\n",
       "      <th>Country</th>\n",
       "    </tr>\n",
       "  </thead>\n",
       "  <tbody>\n",
       "    <tr>\n",
       "      <th>0</th>\n",
       "      <td>1</td>\n",
       "      <td>CA-2016-152156</td>\n",
       "      <td>Second Class</td>\n",
       "      <td>CG-12520</td>\n",
       "      <td>Claire Gute</td>\n",
       "      <td>Consumer</td>\n",
       "      <td>Henderson</td>\n",
       "      <td>Kentucky</td>\n",
       "      <td>United States</td>\n",
       "    </tr>\n",
       "    <tr>\n",
       "      <th>1</th>\n",
       "      <td>2</td>\n",
       "      <td>CA-2016-152156</td>\n",
       "      <td>Second Class</td>\n",
       "      <td>CG-12520</td>\n",
       "      <td>Claire Gute</td>\n",
       "      <td>Consumer</td>\n",
       "      <td>Henderson</td>\n",
       "      <td>Kentucky</td>\n",
       "      <td>United States</td>\n",
       "    </tr>\n",
       "    <tr>\n",
       "      <th>2</th>\n",
       "      <td>3</td>\n",
       "      <td>CA-2016-138688</td>\n",
       "      <td>Second Class</td>\n",
       "      <td>DV-13045</td>\n",
       "      <td>Darrin Van Huff</td>\n",
       "      <td>Corporate</td>\n",
       "      <td>Los Angeles</td>\n",
       "      <td>California</td>\n",
       "      <td>United States</td>\n",
       "    </tr>\n",
       "    <tr>\n",
       "      <th>3</th>\n",
       "      <td>4</td>\n",
       "      <td>US-2015-108966</td>\n",
       "      <td>Standard Class</td>\n",
       "      <td>SO-20335</td>\n",
       "      <td>Sean O'Donnell</td>\n",
       "      <td>Consumer</td>\n",
       "      <td>Fort Lauderdale</td>\n",
       "      <td>Florida</td>\n",
       "      <td>United States</td>\n",
       "    </tr>\n",
       "    <tr>\n",
       "      <th>4</th>\n",
       "      <td>5</td>\n",
       "      <td>US-2015-108966</td>\n",
       "      <td>Standard Class</td>\n",
       "      <td>SO-20335</td>\n",
       "      <td>Sean O'Donnell</td>\n",
       "      <td>Consumer</td>\n",
       "      <td>Fort Lauderdale</td>\n",
       "      <td>Florida</td>\n",
       "      <td>United States</td>\n",
       "    </tr>\n",
       "  </tbody>\n",
       "</table>\n",
       "</div>"
      ],
      "text/plain": [
       "   Row ID        Order ID       Ship Mode Customer ID    Customer Name  \\\n",
       "0       1  CA-2016-152156    Second Class    CG-12520      Claire Gute   \n",
       "1       2  CA-2016-152156    Second Class    CG-12520      Claire Gute   \n",
       "2       3  CA-2016-138688    Second Class    DV-13045  Darrin Van Huff   \n",
       "3       4  US-2015-108966  Standard Class    SO-20335   Sean O'Donnell   \n",
       "4       5  US-2015-108966  Standard Class    SO-20335   Sean O'Donnell   \n",
       "\n",
       "     Segment             City       State        Country  \n",
       "0   Consumer        Henderson    Kentucky  United States  \n",
       "1   Consumer        Henderson    Kentucky  United States  \n",
       "2  Corporate      Los Angeles  California  United States  \n",
       "3   Consumer  Fort Lauderdale     Florida  United States  \n",
       "4   Consumer  Fort Lauderdale     Florida  United States  "
      ]
     },
     "execution_count": 93,
     "metadata": {},
     "output_type": "execute_result"
    }
   ],
   "source": [
    "else_type = df[['Row ID', 'Order ID','Ship Mode','Customer ID','Customer Name',\n",
    "               'Segment','City','State','Country']]\n",
    "else_type.head()"
   ]
  },
  {
   "cell_type": "code",
   "execution_count": 95,
   "id": "eb9b8d0b-33ba-41f6-ab2b-cb6a3de2238e",
   "metadata": {},
   "outputs": [
    {
     "data": {
      "text/plain": [
       "Index(['Row ID', 'Order ID', 'Order Date', 'Ship Date', 'Ship Mode',\n",
       "       'Customer ID', 'Customer Name', 'Segment', 'Country', 'City', 'State',\n",
       "       'Postal Code', 'Region', 'Product ID', 'Category', 'Sub-Category',\n",
       "       'Product Name', 'Sales', 'Quantity', 'Discount', 'Profit'],\n",
       "      dtype='object')"
      ]
     },
     "execution_count": 95,
     "metadata": {},
     "output_type": "execute_result"
    }
   ],
   "source": [
    "df.columns"
   ]
  },
  {
   "cell_type": "code",
   "execution_count": 97,
   "id": "a882f74e-0dae-4065-825a-f2b8e225b1b5",
   "metadata": {},
   "outputs": [
    {
     "data": {
      "text/html": [
       "<div>\n",
       "<style scoped>\n",
       "    .dataframe tbody tr th:only-of-type {\n",
       "        vertical-align: middle;\n",
       "    }\n",
       "\n",
       "    .dataframe tbody tr th {\n",
       "        vertical-align: top;\n",
       "    }\n",
       "\n",
       "    .dataframe thead th {\n",
       "        text-align: right;\n",
       "    }\n",
       "</style>\n",
       "<table border=\"1\" class=\"dataframe\">\n",
       "  <thead>\n",
       "    <tr style=\"text-align: right;\">\n",
       "      <th></th>\n",
       "      <th>Order Date</th>\n",
       "      <th>Ship Date</th>\n",
       "    </tr>\n",
       "  </thead>\n",
       "  <tbody>\n",
       "    <tr>\n",
       "      <th>0</th>\n",
       "      <td>11/8/2016</td>\n",
       "      <td>11/11/2016</td>\n",
       "    </tr>\n",
       "    <tr>\n",
       "      <th>1</th>\n",
       "      <td>11/8/2016</td>\n",
       "      <td>11/11/2016</td>\n",
       "    </tr>\n",
       "    <tr>\n",
       "      <th>2</th>\n",
       "      <td>6/12/2016</td>\n",
       "      <td>6/16/2016</td>\n",
       "    </tr>\n",
       "    <tr>\n",
       "      <th>3</th>\n",
       "      <td>10/11/2015</td>\n",
       "      <td>10/18/2015</td>\n",
       "    </tr>\n",
       "    <tr>\n",
       "      <th>4</th>\n",
       "      <td>10/11/2015</td>\n",
       "      <td>10/18/2015</td>\n",
       "    </tr>\n",
       "  </tbody>\n",
       "</table>\n",
       "</div>"
      ],
      "text/plain": [
       "   Order Date   Ship Date\n",
       "0   11/8/2016  11/11/2016\n",
       "1   11/8/2016  11/11/2016\n",
       "2   6/12/2016   6/16/2016\n",
       "3  10/11/2015  10/18/2015\n",
       "4  10/11/2015  10/18/2015"
      ]
     },
     "execution_count": 97,
     "metadata": {},
     "output_type": "execute_result"
    }
   ],
   "source": [
    "date_type = df[['Order Date', 'Ship Date']]\n",
    "date_type.head()"
   ]
  },
  {
   "cell_type": "code",
   "execution_count": 99,
   "id": "192e58c8-497f-4b2d-a8fb-6e3548e5b79e",
   "metadata": {},
   "outputs": [
    {
     "name": "stdout",
     "output_type": "stream",
     "text": [
      "Order Date    datetime64[ns]\n",
      "Ship Date     datetime64[ns]\n",
      "dtype: object\n"
     ]
    }
   ],
   "source": [
    "df['Order Date'] = pd.to_datetime(df['Order Date'], format='mixed', errors='coerce')\n",
    "df['Ship Date'] = pd.to_datetime(df['Ship Date'], format='mixed', errors='coerce')\n",
    "\n",
    "# Verify the conversion\n",
    "print(df[['Order Date', 'Ship Date']].dtypes)"
   ]
  },
  {
   "cell_type": "code",
   "execution_count": 101,
   "id": "bb10b3ca-80c5-4b5d-9c11-2bcfe0fd5779",
   "metadata": {},
   "outputs": [
    {
     "data": {
      "text/plain": [
       "Row ID                    int64\n",
       "Order ID                 object\n",
       "Order Date       datetime64[ns]\n",
       "Ship Date        datetime64[ns]\n",
       "Ship Mode                object\n",
       "Customer ID              object\n",
       "Customer Name            object\n",
       "Segment                  object\n",
       "Country                  object\n",
       "City                     object\n",
       "State                    object\n",
       "Postal Code               int64\n",
       "Region                   object\n",
       "Product ID               object\n",
       "Category                 object\n",
       "Sub-Category             object\n",
       "Product Name             object\n",
       "Sales                   float64\n",
       "Quantity                  int64\n",
       "Discount                float64\n",
       "Profit                  float64\n",
       "dtype: object"
      ]
     },
     "execution_count": 101,
     "metadata": {},
     "output_type": "execute_result"
    }
   ],
   "source": [
    "df.dtypes"
   ]
  },
  {
   "cell_type": "code",
   "execution_count": 103,
   "id": "1c77b2c9-2cb2-4335-965e-8d504a31093c",
   "metadata": {},
   "outputs": [
    {
     "data": {
      "text/plain": [
       "Index(['Row ID', 'Order ID', 'Order Date', 'Ship Date', 'Ship Mode',\n",
       "       'Customer ID', 'Customer Name', 'Segment', 'Country', 'City', 'State',\n",
       "       'Postal Code', 'Region', 'Product ID', 'Category', 'Sub-Category',\n",
       "       'Product Name', 'Sales', 'Quantity', 'Discount', 'Profit'],\n",
       "      dtype='object')"
      ]
     },
     "execution_count": 103,
     "metadata": {},
     "output_type": "execute_result"
    }
   ],
   "source": [
    "df.columns"
   ]
  },
  {
   "cell_type": "code",
   "execution_count": 105,
   "id": "a4ea3bcd-27bf-4bdd-af22-c8f3ef29ba76",
   "metadata": {},
   "outputs": [],
   "source": [
    "df['Ship Mode'] = data['Ship Mode'].astype('category')\n",
    "df['Segment'] = data['Segment'].astype('category')\n",
    "df['Country'] = data['Country'].astype('category')\n",
    "df['Region'] = data['Region'].astype('category')\n",
    "df['Category'] = data['Category'].astype('category')\n",
    "df['Sub-Category'] = data['Sub-Category'].astype('category')"
   ]
  },
  {
   "cell_type": "code",
   "execution_count": 107,
   "id": "44f0be48-d1fc-4331-b2f8-c5d10e3b2632",
   "metadata": {},
   "outputs": [
    {
     "data": {
      "text/plain": [
       "Row ID                    int64\n",
       "Order ID                 object\n",
       "Order Date       datetime64[ns]\n",
       "Ship Date        datetime64[ns]\n",
       "Ship Mode              category\n",
       "Customer ID              object\n",
       "Customer Name            object\n",
       "Segment                category\n",
       "Country                category\n",
       "City                     object\n",
       "State                    object\n",
       "Postal Code               int64\n",
       "Region                 category\n",
       "Product ID               object\n",
       "Category               category\n",
       "Sub-Category           category\n",
       "Product Name             object\n",
       "Sales                   float64\n",
       "Quantity                  int64\n",
       "Discount                float64\n",
       "Profit                  float64\n",
       "dtype: object"
      ]
     },
     "execution_count": 107,
     "metadata": {},
     "output_type": "execute_result"
    }
   ],
   "source": [
    "df.dtypes"
   ]
  },
  {
   "cell_type": "code",
   "execution_count": 109,
   "id": "64a9afd2-2889-4bc6-895b-ff01f78ac39c",
   "metadata": {},
   "outputs": [
    {
     "name": "stdout",
     "output_type": "stream",
     "text": [
      "<class 'pandas.core.frame.DataFrame'>\n",
      "RangeIndex: 9994 entries, 0 to 9993\n",
      "Data columns (total 21 columns):\n",
      " #   Column         Non-Null Count  Dtype         \n",
      "---  ------         --------------  -----         \n",
      " 0   Row ID         9994 non-null   int64         \n",
      " 1   Order ID       9994 non-null   object        \n",
      " 2   Order Date     9994 non-null   datetime64[ns]\n",
      " 3   Ship Date      9994 non-null   datetime64[ns]\n",
      " 4   Ship Mode      9994 non-null   category      \n",
      " 5   Customer ID    9994 non-null   object        \n",
      " 6   Customer Name  9994 non-null   object        \n",
      " 7   Segment        9994 non-null   category      \n",
      " 8   Country        9994 non-null   category      \n",
      " 9   City           9994 non-null   object        \n",
      " 10  State          9994 non-null   object        \n",
      " 11  Postal Code    9994 non-null   int64         \n",
      " 12  Region         9994 non-null   category      \n",
      " 13  Product ID     9994 non-null   object        \n",
      " 14  Category       9994 non-null   category      \n",
      " 15  Sub-Category   9994 non-null   category      \n",
      " 16  Product Name   9994 non-null   object        \n",
      " 17  Sales          9994 non-null   float64       \n",
      " 18  Quantity       9994 non-null   int64         \n",
      " 19  Discount       9994 non-null   float64       \n",
      " 20  Profit         9994 non-null   float64       \n",
      "dtypes: category(6), datetime64[ns](2), float64(3), int64(3), object(7)\n",
      "memory usage: 1.2+ MB\n"
     ]
    }
   ],
   "source": [
    "df.info()"
   ]
  },
  {
   "cell_type": "code",
   "execution_count": 111,
   "id": "25911619-6b3f-41ef-9f80-b2984ab4b49a",
   "metadata": {},
   "outputs": [
    {
     "data": {
      "text/plain": [
       "0"
      ]
     },
     "execution_count": 111,
     "metadata": {},
     "output_type": "execute_result"
    }
   ],
   "source": [
    "df.duplicated().sum()"
   ]
  },
  {
   "cell_type": "code",
   "execution_count": 113,
   "id": "74c2ba96-7a62-461d-aba3-de06475320de",
   "metadata": {},
   "outputs": [
    {
     "data": {
      "text/plain": [
       "Row ID           0\n",
       "Order ID         0\n",
       "Order Date       0\n",
       "Ship Date        0\n",
       "Ship Mode        0\n",
       "Customer ID      0\n",
       "Customer Name    0\n",
       "Segment          0\n",
       "Country          0\n",
       "City             0\n",
       "State            0\n",
       "Postal Code      0\n",
       "Region           0\n",
       "Product ID       0\n",
       "Category         0\n",
       "Sub-Category     0\n",
       "Product Name     0\n",
       "Sales            0\n",
       "Quantity         0\n",
       "Discount         0\n",
       "Profit           0\n",
       "dtype: int64"
      ]
     },
     "execution_count": 113,
     "metadata": {},
     "output_type": "execute_result"
    }
   ],
   "source": [
    "df.isnull().sum()"
   ]
  },
  {
   "cell_type": "code",
   "execution_count": 115,
   "id": "b68a0c75-9fee-43f3-b2b7-a68420bbb0cb",
   "metadata": {},
   "outputs": [
    {
     "data": {
      "text/plain": [
       "Row ID           9994\n",
       "Order ID         5009\n",
       "Order Date       1237\n",
       "Ship Date        1334\n",
       "Ship Mode           4\n",
       "Customer ID       793\n",
       "Customer Name     793\n",
       "Segment             3\n",
       "Country             1\n",
       "City              531\n",
       "State              49\n",
       "Postal Code       631\n",
       "Region              4\n",
       "Product ID       1862\n",
       "Category            3\n",
       "Sub-Category       17\n",
       "Product Name     1850\n",
       "Sales            5825\n",
       "Quantity           14\n",
       "Discount           12\n",
       "Profit           7287\n",
       "dtype: int64"
      ]
     },
     "execution_count": 115,
     "metadata": {},
     "output_type": "execute_result"
    }
   ],
   "source": [
    "df.nunique()"
   ]
  },
  {
   "cell_type": "code",
   "execution_count": 117,
   "id": "bad5a48c-0df0-48b9-acea-36ad38118a7b",
   "metadata": {},
   "outputs": [],
   "source": [
    "postal_code_mode = df['Postal Code'].mode()[0]\n",
    "#postal_code_mode\n",
    "df['Postal Code'] = df['Postal Code'].fillna(postal_code_mode)"
   ]
  },
  {
   "cell_type": "code",
   "execution_count": 119,
   "id": "f9893ae9-b4a2-4daf-8773-744835fb55ad",
   "metadata": {},
   "outputs": [
    {
     "data": {
      "text/plain": [
       "0"
      ]
     },
     "execution_count": 119,
     "metadata": {},
     "output_type": "execute_result"
    }
   ],
   "source": [
    "df['Postal Code'].isnull().sum()"
   ]
  },
  {
   "cell_type": "code",
   "execution_count": 121,
   "id": "0b72d087-f2cc-472f-aace-b274fc24b180",
   "metadata": {},
   "outputs": [
    {
     "data": {
      "text/plain": [
       "Index(['Row ID', 'Order ID', 'Order Date', 'Ship Date', 'Ship Mode',\n",
       "       'Customer ID', 'Customer Name', 'Segment', 'Country', 'City', 'State',\n",
       "       'Postal Code', 'Region', 'Product ID', 'Category', 'Sub-Category',\n",
       "       'Product Name', 'Sales', 'Quantity', 'Discount', 'Profit'],\n",
       "      dtype='object')"
      ]
     },
     "execution_count": 121,
     "metadata": {},
     "output_type": "execute_result"
    }
   ],
   "source": [
    "df.columns"
   ]
  },
  {
   "cell_type": "code",
   "execution_count": 127,
   "id": "1c8d26c8-bb52-4701-afde-eabac9fe5188",
   "metadata": {},
   "outputs": [
    {
     "data": {
      "text/html": [
       "<div>\n",
       "<style scoped>\n",
       "    .dataframe tbody tr th:only-of-type {\n",
       "        vertical-align: middle;\n",
       "    }\n",
       "\n",
       "    .dataframe tbody tr th {\n",
       "        vertical-align: top;\n",
       "    }\n",
       "\n",
       "    .dataframe thead th {\n",
       "        text-align: right;\n",
       "    }\n",
       "</style>\n",
       "<table border=\"1\" class=\"dataframe\">\n",
       "  <thead>\n",
       "    <tr style=\"text-align: right;\">\n",
       "      <th></th>\n",
       "      <th>Row ID</th>\n",
       "      <th>Order ID</th>\n",
       "      <th>Order Date</th>\n",
       "      <th>Ship Date</th>\n",
       "      <th>Ship Mode</th>\n",
       "      <th>Customer ID</th>\n",
       "      <th>Customer Name</th>\n",
       "      <th>Segment</th>\n",
       "      <th>Country</th>\n",
       "      <th>City</th>\n",
       "      <th>...</th>\n",
       "      <th>Postal Code</th>\n",
       "      <th>Region</th>\n",
       "      <th>Product ID</th>\n",
       "      <th>Category</th>\n",
       "      <th>Sub-Category</th>\n",
       "      <th>Product Name</th>\n",
       "      <th>Sales</th>\n",
       "      <th>Quantity</th>\n",
       "      <th>Discount</th>\n",
       "      <th>Profit</th>\n",
       "    </tr>\n",
       "  </thead>\n",
       "  <tbody>\n",
       "  </tbody>\n",
       "</table>\n",
       "<p>0 rows × 21 columns</p>\n",
       "</div>"
      ],
      "text/plain": [
       "Empty DataFrame\n",
       "Columns: [Row ID, Order ID, Order Date, Ship Date, Ship Mode, Customer ID, Customer Name, Segment, Country, City, State, Postal Code, Region, Product ID, Category, Sub-Category, Product Name, Sales, Quantity, Discount, Profit]\n",
       "Index: []\n",
       "\n",
       "[0 rows x 21 columns]"
      ]
     },
     "execution_count": 127,
     "metadata": {},
     "output_type": "execute_result"
    }
   ],
   "source": [
    "negative_sales = df[df['Sales'] < 0]\n",
    "if not negative_sales.empty:\n",
    "    print(\"Negative values in 'Sales':\")\n",
    "    print(negative_sales)\n",
    "negative_sales"
   ]
  },
  {
   "cell_type": "code",
   "execution_count": 129,
   "id": "c694c98f-d84d-4661-8095-48167ea166a4",
   "metadata": {},
   "outputs": [
    {
     "name": "stdout",
     "output_type": "stream",
     "text": [
      "Negative values in 'Profit':\n"
     ]
    },
    {
     "data": {
      "text/html": [
       "<div>\n",
       "<style scoped>\n",
       "    .dataframe tbody tr th:only-of-type {\n",
       "        vertical-align: middle;\n",
       "    }\n",
       "\n",
       "    .dataframe tbody tr th {\n",
       "        vertical-align: top;\n",
       "    }\n",
       "\n",
       "    .dataframe thead th {\n",
       "        text-align: right;\n",
       "    }\n",
       "</style>\n",
       "<table border=\"1\" class=\"dataframe\">\n",
       "  <thead>\n",
       "    <tr style=\"text-align: right;\">\n",
       "      <th></th>\n",
       "      <th>Row ID</th>\n",
       "      <th>Order ID</th>\n",
       "      <th>Order Date</th>\n",
       "      <th>Ship Date</th>\n",
       "      <th>Ship Mode</th>\n",
       "      <th>Customer ID</th>\n",
       "      <th>Customer Name</th>\n",
       "      <th>Segment</th>\n",
       "      <th>Country</th>\n",
       "      <th>City</th>\n",
       "      <th>...</th>\n",
       "      <th>Postal Code</th>\n",
       "      <th>Region</th>\n",
       "      <th>Product ID</th>\n",
       "      <th>Category</th>\n",
       "      <th>Sub-Category</th>\n",
       "      <th>Product Name</th>\n",
       "      <th>Sales</th>\n",
       "      <th>Quantity</th>\n",
       "      <th>Discount</th>\n",
       "      <th>Profit</th>\n",
       "    </tr>\n",
       "  </thead>\n",
       "  <tbody>\n",
       "    <tr>\n",
       "      <th>3</th>\n",
       "      <td>4</td>\n",
       "      <td>US-2015-108966</td>\n",
       "      <td>2015-10-11</td>\n",
       "      <td>2015-10-18</td>\n",
       "      <td>Standard Class</td>\n",
       "      <td>SO-20335</td>\n",
       "      <td>Sean O'Donnell</td>\n",
       "      <td>Consumer</td>\n",
       "      <td>United States</td>\n",
       "      <td>Fort Lauderdale</td>\n",
       "      <td>...</td>\n",
       "      <td>33311</td>\n",
       "      <td>South</td>\n",
       "      <td>FUR-TA-10000577</td>\n",
       "      <td>Furniture</td>\n",
       "      <td>Tables</td>\n",
       "      <td>Bretford CR4500 Series Slim Rectangular Table</td>\n",
       "      <td>957.5775</td>\n",
       "      <td>5</td>\n",
       "      <td>0.45</td>\n",
       "      <td>-383.031</td>\n",
       "    </tr>\n",
       "    <tr>\n",
       "      <th>14</th>\n",
       "      <td>15</td>\n",
       "      <td>US-2015-118983</td>\n",
       "      <td>2015-11-22</td>\n",
       "      <td>2015-11-26</td>\n",
       "      <td>Standard Class</td>\n",
       "      <td>HP-14815</td>\n",
       "      <td>Harold Pawlan</td>\n",
       "      <td>Home Office</td>\n",
       "      <td>United States</td>\n",
       "      <td>Fort Worth</td>\n",
       "      <td>...</td>\n",
       "      <td>76106</td>\n",
       "      <td>Central</td>\n",
       "      <td>OFF-AP-10002311</td>\n",
       "      <td>Office Supplies</td>\n",
       "      <td>Appliances</td>\n",
       "      <td>Holmes Replacement Filter for HEPA Air Cleaner...</td>\n",
       "      <td>68.8100</td>\n",
       "      <td>5</td>\n",
       "      <td>0.80</td>\n",
       "      <td>-123.858</td>\n",
       "    </tr>\n",
       "    <tr>\n",
       "      <th>15</th>\n",
       "      <td>16</td>\n",
       "      <td>US-2015-118983</td>\n",
       "      <td>2015-11-22</td>\n",
       "      <td>2015-11-26</td>\n",
       "      <td>Standard Class</td>\n",
       "      <td>HP-14815</td>\n",
       "      <td>Harold Pawlan</td>\n",
       "      <td>Home Office</td>\n",
       "      <td>United States</td>\n",
       "      <td>Fort Worth</td>\n",
       "      <td>...</td>\n",
       "      <td>76106</td>\n",
       "      <td>Central</td>\n",
       "      <td>OFF-BI-10000756</td>\n",
       "      <td>Office Supplies</td>\n",
       "      <td>Binders</td>\n",
       "      <td>Storex DuraTech Recycled Plastic Frosted Binders</td>\n",
       "      <td>2.5440</td>\n",
       "      <td>3</td>\n",
       "      <td>0.80</td>\n",
       "      <td>-3.816</td>\n",
       "    </tr>\n",
       "  </tbody>\n",
       "</table>\n",
       "<p>3 rows × 21 columns</p>\n",
       "</div>"
      ],
      "text/plain": [
       "    Row ID        Order ID Order Date  Ship Date       Ship Mode Customer ID  \\\n",
       "3        4  US-2015-108966 2015-10-11 2015-10-18  Standard Class    SO-20335   \n",
       "14      15  US-2015-118983 2015-11-22 2015-11-26  Standard Class    HP-14815   \n",
       "15      16  US-2015-118983 2015-11-22 2015-11-26  Standard Class    HP-14815   \n",
       "\n",
       "     Customer Name      Segment        Country             City  ...  \\\n",
       "3   Sean O'Donnell     Consumer  United States  Fort Lauderdale  ...   \n",
       "14   Harold Pawlan  Home Office  United States       Fort Worth  ...   \n",
       "15   Harold Pawlan  Home Office  United States       Fort Worth  ...   \n",
       "\n",
       "   Postal Code   Region       Product ID         Category Sub-Category  \\\n",
       "3        33311    South  FUR-TA-10000577        Furniture       Tables   \n",
       "14       76106  Central  OFF-AP-10002311  Office Supplies   Appliances   \n",
       "15       76106  Central  OFF-BI-10000756  Office Supplies      Binders   \n",
       "\n",
       "                                         Product Name     Sales  Quantity  \\\n",
       "3       Bretford CR4500 Series Slim Rectangular Table  957.5775         5   \n",
       "14  Holmes Replacement Filter for HEPA Air Cleaner...   68.8100         5   \n",
       "15   Storex DuraTech Recycled Plastic Frosted Binders    2.5440         3   \n",
       "\n",
       "    Discount   Profit  \n",
       "3       0.45 -383.031  \n",
       "14      0.80 -123.858  \n",
       "15      0.80   -3.816  \n",
       "\n",
       "[3 rows x 21 columns]"
      ]
     },
     "metadata": {},
     "output_type": "display_data"
    }
   ],
   "source": [
    "# Check for negative values in 'Profit' column\n",
    "negative_profit = df[df['Profit'] < 0]\n",
    "if not negative_profit.empty:\n",
    "    print(\"Negative values in 'Profit':\")\n",
    "    display(negative_profit.head(3))"
   ]
  },
  {
   "cell_type": "code",
   "execution_count": 131,
   "id": "d703fa69-40ee-408a-8ebe-f4f2ccfa00df",
   "metadata": {},
   "outputs": [
    {
     "data": {
      "text/plain": [
       "1871"
      ]
     },
     "execution_count": 131,
     "metadata": {},
     "output_type": "execute_result"
    }
   ],
   "source": [
    "negative_profit_count = (df['Profit'] < 0).sum()\n",
    "negative_profit_count "
   ]
  },
  {
   "cell_type": "code",
   "execution_count": 374,
   "id": "c308dba1-58b5-4fc3-b882-dd92fe0bef64",
   "metadata": {},
   "outputs": [
    {
     "data": {
      "text/plain": [
       "54.478432524929204"
      ]
     },
     "execution_count": 374,
     "metadata": {},
     "output_type": "execute_result"
    }
   ],
   "source": [
    "mean_profit = df[df['Profit'] >= 0]['Profit'].mean()\n",
    "data.loc[data['Profit'] < 0, 'Profit'] = mean_profit\n",
    "mean_profit"
   ]
  },
  {
   "cell_type": "code",
   "execution_count": 135,
   "id": "84b9dc70-1835-4ff6-9c01-0ac20b932ef9",
   "metadata": {},
   "outputs": [],
   "source": [
    "# Replace negative 'Profit' values with the calculated mean\n",
    "df['Profit'] = df['Profit'].apply(lambda x: mean_profit if x < 0 else x)"
   ]
  },
  {
   "cell_type": "code",
   "execution_count": 372,
   "id": "2f93d012-9793-467a-88c3-e7ee2cb59289",
   "metadata": {},
   "outputs": [
    {
     "name": "stdout",
     "output_type": "stream",
     "text": [
      "Negative values in 'Profit' have been replaced with the mean of non-negative profits.\n",
      "0        41.913600\n",
      "1       219.582000\n",
      "2         6.871400\n",
      "3        54.478433\n",
      "4         2.516400\n",
      "           ...    \n",
      "9989      4.102800\n",
      "9990     15.633200\n",
      "9991     19.393200\n",
      "9992     13.320000\n",
      "9993     72.948000\n",
      "Name: Profit, Length: 9994, dtype: float64\n"
     ]
    }
   ],
   "source": [
    "print(\"Negative values in 'Profit' have been replaced with the mean of non-negative profits.\")\n",
    "print(df['Profit'])"
   ]
  },
  {
   "cell_type": "code",
   "execution_count": 139,
   "id": "c0698f9e-5499-4859-ae87-793c351cd3f7",
   "metadata": {},
   "outputs": [
    {
     "name": "stdout",
     "output_type": "stream",
     "text": [
      "<class 'pandas.core.frame.DataFrame'>\n",
      "RangeIndex: 9994 entries, 0 to 9993\n",
      "Data columns (total 21 columns):\n",
      " #   Column         Non-Null Count  Dtype         \n",
      "---  ------         --------------  -----         \n",
      " 0   Row ID         9994 non-null   int64         \n",
      " 1   Order ID       9994 non-null   object        \n",
      " 2   Order Date     9994 non-null   datetime64[ns]\n",
      " 3   Ship Date      9994 non-null   datetime64[ns]\n",
      " 4   Ship Mode      9994 non-null   category      \n",
      " 5   Customer ID    9994 non-null   object        \n",
      " 6   Customer Name  9994 non-null   object        \n",
      " 7   Segment        9994 non-null   category      \n",
      " 8   Country        9994 non-null   category      \n",
      " 9   City           9994 non-null   object        \n",
      " 10  State          9994 non-null   object        \n",
      " 11  Postal Code    9994 non-null   int64         \n",
      " 12  Region         9994 non-null   category      \n",
      " 13  Product ID     9994 non-null   object        \n",
      " 14  Category       9994 non-null   category      \n",
      " 15  Sub-Category   9994 non-null   category      \n",
      " 16  Product Name   9994 non-null   object        \n",
      " 17  Sales          9994 non-null   float64       \n",
      " 18  Quantity       9994 non-null   int64         \n",
      " 19  Discount       9994 non-null   float64       \n",
      " 20  Profit         9994 non-null   float64       \n",
      "dtypes: category(6), datetime64[ns](2), float64(3), int64(3), object(7)\n",
      "memory usage: 1.2+ MB\n"
     ]
    }
   ],
   "source": [
    "df.info()"
   ]
  },
  {
   "cell_type": "code",
   "execution_count": 376,
   "id": "bdfbb070-6837-4a91-b0ae-f2dca7ad2110",
   "metadata": {},
   "outputs": [
    {
     "data": {
      "text/plain": [
       "Index(['Row ID', 'Order ID', 'Order Date', 'Ship Date', 'Ship Mode',\n",
       "       'Customer ID', 'Customer Name', 'Segment', 'Country', 'City', 'State',\n",
       "       'Postal Code', 'Region', 'Product ID', 'Category', 'Sub-Category',\n",
       "       'Product Name', 'Sales', 'Quantity', 'Discount', 'Profit',\n",
       "       'Delivery Time'],\n",
       "      dtype='object')"
      ]
     },
     "execution_count": 376,
     "metadata": {},
     "output_type": "execute_result"
    }
   ],
   "source": [
    "df.columns"
   ]
  },
  {
   "cell_type": "markdown",
   "id": "c7b4c5a7-7115-49ba-b2d6-30dee4e46fb0",
   "metadata": {},
   "source": [
    "\n",
    "### Final Data:"
   ]
  },
  {
   "cell_type": "code",
   "execution_count": 378,
   "id": "018db1db-feb0-4d26-a7a0-61f9aa186af6",
   "metadata": {},
   "outputs": [
    {
     "data": {
      "text/html": [
       "<div>\n",
       "<style scoped>\n",
       "    .dataframe tbody tr th:only-of-type {\n",
       "        vertical-align: middle;\n",
       "    }\n",
       "\n",
       "    .dataframe tbody tr th {\n",
       "        vertical-align: top;\n",
       "    }\n",
       "\n",
       "    .dataframe thead th {\n",
       "        text-align: right;\n",
       "    }\n",
       "</style>\n",
       "<table border=\"1\" class=\"dataframe\">\n",
       "  <thead>\n",
       "    <tr style=\"text-align: right;\">\n",
       "      <th></th>\n",
       "      <th>Row ID</th>\n",
       "      <th>Order ID</th>\n",
       "      <th>Order Date</th>\n",
       "      <th>Ship Date</th>\n",
       "      <th>Ship Mode</th>\n",
       "      <th>Customer ID</th>\n",
       "      <th>Customer Name</th>\n",
       "      <th>Segment</th>\n",
       "      <th>Country</th>\n",
       "      <th>City</th>\n",
       "      <th>...</th>\n",
       "      <th>Region</th>\n",
       "      <th>Product ID</th>\n",
       "      <th>Category</th>\n",
       "      <th>Sub-Category</th>\n",
       "      <th>Product Name</th>\n",
       "      <th>Sales</th>\n",
       "      <th>Quantity</th>\n",
       "      <th>Discount</th>\n",
       "      <th>Profit</th>\n",
       "      <th>Delivery Time</th>\n",
       "    </tr>\n",
       "  </thead>\n",
       "  <tbody>\n",
       "    <tr>\n",
       "      <th>0</th>\n",
       "      <td>1</td>\n",
       "      <td>CA-2016-152156</td>\n",
       "      <td>2016-11-08</td>\n",
       "      <td>2016-11-11</td>\n",
       "      <td>Second Class</td>\n",
       "      <td>CG-12520</td>\n",
       "      <td>Claire Gute</td>\n",
       "      <td>Consumer</td>\n",
       "      <td>United States</td>\n",
       "      <td>Henderson</td>\n",
       "      <td>...</td>\n",
       "      <td>South</td>\n",
       "      <td>FUR-BO-10001798</td>\n",
       "      <td>Furniture</td>\n",
       "      <td>Bookcases</td>\n",
       "      <td>Bush Somerset Collection Bookcase</td>\n",
       "      <td>261.9600</td>\n",
       "      <td>2</td>\n",
       "      <td>0.00</td>\n",
       "      <td>41.913600</td>\n",
       "      <td>3</td>\n",
       "    </tr>\n",
       "    <tr>\n",
       "      <th>1</th>\n",
       "      <td>2</td>\n",
       "      <td>CA-2016-152156</td>\n",
       "      <td>2016-11-08</td>\n",
       "      <td>2016-11-11</td>\n",
       "      <td>Second Class</td>\n",
       "      <td>CG-12520</td>\n",
       "      <td>Claire Gute</td>\n",
       "      <td>Consumer</td>\n",
       "      <td>United States</td>\n",
       "      <td>Henderson</td>\n",
       "      <td>...</td>\n",
       "      <td>South</td>\n",
       "      <td>FUR-CH-10000454</td>\n",
       "      <td>Furniture</td>\n",
       "      <td>Chairs</td>\n",
       "      <td>Hon Deluxe Fabric Upholstered Stacking Chairs,...</td>\n",
       "      <td>731.9400</td>\n",
       "      <td>3</td>\n",
       "      <td>0.00</td>\n",
       "      <td>219.582000</td>\n",
       "      <td>3</td>\n",
       "    </tr>\n",
       "    <tr>\n",
       "      <th>2</th>\n",
       "      <td>3</td>\n",
       "      <td>CA-2016-138688</td>\n",
       "      <td>2016-06-12</td>\n",
       "      <td>2016-06-16</td>\n",
       "      <td>Second Class</td>\n",
       "      <td>DV-13045</td>\n",
       "      <td>Darrin Van Huff</td>\n",
       "      <td>Corporate</td>\n",
       "      <td>United States</td>\n",
       "      <td>Los Angeles</td>\n",
       "      <td>...</td>\n",
       "      <td>West</td>\n",
       "      <td>OFF-LA-10000240</td>\n",
       "      <td>Office Supplies</td>\n",
       "      <td>Labels</td>\n",
       "      <td>Self-Adhesive Address Labels for Typewriters b...</td>\n",
       "      <td>14.6200</td>\n",
       "      <td>2</td>\n",
       "      <td>0.00</td>\n",
       "      <td>6.871400</td>\n",
       "      <td>4</td>\n",
       "    </tr>\n",
       "    <tr>\n",
       "      <th>3</th>\n",
       "      <td>4</td>\n",
       "      <td>US-2015-108966</td>\n",
       "      <td>2015-10-11</td>\n",
       "      <td>2015-10-18</td>\n",
       "      <td>Standard Class</td>\n",
       "      <td>SO-20335</td>\n",
       "      <td>Sean O'Donnell</td>\n",
       "      <td>Consumer</td>\n",
       "      <td>United States</td>\n",
       "      <td>Fort Lauderdale</td>\n",
       "      <td>...</td>\n",
       "      <td>South</td>\n",
       "      <td>FUR-TA-10000577</td>\n",
       "      <td>Furniture</td>\n",
       "      <td>Tables</td>\n",
       "      <td>Bretford CR4500 Series Slim Rectangular Table</td>\n",
       "      <td>957.5775</td>\n",
       "      <td>5</td>\n",
       "      <td>0.45</td>\n",
       "      <td>54.478433</td>\n",
       "      <td>7</td>\n",
       "    </tr>\n",
       "    <tr>\n",
       "      <th>4</th>\n",
       "      <td>5</td>\n",
       "      <td>US-2015-108966</td>\n",
       "      <td>2015-10-11</td>\n",
       "      <td>2015-10-18</td>\n",
       "      <td>Standard Class</td>\n",
       "      <td>SO-20335</td>\n",
       "      <td>Sean O'Donnell</td>\n",
       "      <td>Consumer</td>\n",
       "      <td>United States</td>\n",
       "      <td>Fort Lauderdale</td>\n",
       "      <td>...</td>\n",
       "      <td>South</td>\n",
       "      <td>OFF-ST-10000760</td>\n",
       "      <td>Office Supplies</td>\n",
       "      <td>Storage</td>\n",
       "      <td>Eldon Fold 'N Roll Cart System</td>\n",
       "      <td>22.3680</td>\n",
       "      <td>2</td>\n",
       "      <td>0.20</td>\n",
       "      <td>2.516400</td>\n",
       "      <td>7</td>\n",
       "    </tr>\n",
       "  </tbody>\n",
       "</table>\n",
       "<p>5 rows × 22 columns</p>\n",
       "</div>"
      ],
      "text/plain": [
       "   Row ID        Order ID Order Date  Ship Date       Ship Mode Customer ID  \\\n",
       "0       1  CA-2016-152156 2016-11-08 2016-11-11    Second Class    CG-12520   \n",
       "1       2  CA-2016-152156 2016-11-08 2016-11-11    Second Class    CG-12520   \n",
       "2       3  CA-2016-138688 2016-06-12 2016-06-16    Second Class    DV-13045   \n",
       "3       4  US-2015-108966 2015-10-11 2015-10-18  Standard Class    SO-20335   \n",
       "4       5  US-2015-108966 2015-10-11 2015-10-18  Standard Class    SO-20335   \n",
       "\n",
       "     Customer Name    Segment        Country             City  ... Region  \\\n",
       "0      Claire Gute   Consumer  United States        Henderson  ...  South   \n",
       "1      Claire Gute   Consumer  United States        Henderson  ...  South   \n",
       "2  Darrin Van Huff  Corporate  United States      Los Angeles  ...   West   \n",
       "3   Sean O'Donnell   Consumer  United States  Fort Lauderdale  ...  South   \n",
       "4   Sean O'Donnell   Consumer  United States  Fort Lauderdale  ...  South   \n",
       "\n",
       "        Product ID         Category Sub-Category  \\\n",
       "0  FUR-BO-10001798        Furniture    Bookcases   \n",
       "1  FUR-CH-10000454        Furniture       Chairs   \n",
       "2  OFF-LA-10000240  Office Supplies       Labels   \n",
       "3  FUR-TA-10000577        Furniture       Tables   \n",
       "4  OFF-ST-10000760  Office Supplies      Storage   \n",
       "\n",
       "                                        Product Name     Sales Quantity  \\\n",
       "0                  Bush Somerset Collection Bookcase  261.9600        2   \n",
       "1  Hon Deluxe Fabric Upholstered Stacking Chairs,...  731.9400        3   \n",
       "2  Self-Adhesive Address Labels for Typewriters b...   14.6200        2   \n",
       "3      Bretford CR4500 Series Slim Rectangular Table  957.5775        5   \n",
       "4                     Eldon Fold 'N Roll Cart System   22.3680        2   \n",
       "\n",
       "   Discount      Profit  Delivery Time  \n",
       "0      0.00   41.913600              3  \n",
       "1      0.00  219.582000              3  \n",
       "2      0.00    6.871400              4  \n",
       "3      0.45   54.478433              7  \n",
       "4      0.20    2.516400              7  \n",
       "\n",
       "[5 rows x 22 columns]"
      ]
     },
     "execution_count": 378,
     "metadata": {},
     "output_type": "execute_result"
    }
   ],
   "source": [
    "Final_Data = df[['Row ID', 'Order ID', 'Order Date', 'Ship Date', 'Ship Mode',\n",
    "       'Customer ID', 'Customer Name', 'Segment', 'Country', 'City', 'State',\n",
    "       'Postal Code', 'Region', 'Product ID', 'Category', 'Sub-Category',\n",
    "       'Product Name', 'Sales', 'Quantity', 'Discount', 'Profit',\n",
    "       'Delivery Time']]\n",
    "Final_Data = Final_Data.copy()\n",
    "\n",
    "Final_Data.head()"
   ]
  },
  {
   "cell_type": "markdown",
   "id": "dd8678b7-b4fd-4432-885c-eb96a8e843b8",
   "metadata": {},
   "source": [
    "### 1. What is the trend of sales and profit over time?\n"
   ]
  },
  {
   "cell_type": "code",
   "execution_count": 380,
   "id": "87c540c5-8b06-45e2-8d21-8c8c909eb5a1",
   "metadata": {},
   "outputs": [
    {
     "name": "stdout",
     "output_type": "stream",
     "text": [
      "            Sales         Profit\n",
      "Year                            \n",
      "2014  484247.4981  101975.114862\n",
      "2015  470532.5090  115775.932312\n",
      "2016  609205.5980  145654.316314\n",
      "2017  733215.2552  181052.091165\n"
     ]
    }
   ],
   "source": [
    "Final_Data.loc[:, 'Order Date'] = pd.to_datetime(Final_Data['Order Date'])\n",
    "Final_Data.loc[:, 'Year'] = Final_Data['Order Date'].dt.year\n",
    "sales_profit_trend = Final_Data.groupby('Year')[['Sales', 'Profit']].sum()\n",
    "print(sales_profit_trend)\n"
   ]
  },
  {
   "cell_type": "code",
   "execution_count": 382,
   "id": "7742b2a9-a311-4969-84db-50205af5c62f",
   "metadata": {},
   "outputs": [
    {
     "data": {
      "image/png": "[encoded data removed]",
      "text/plain": [
       "<Figure size 700x500 with 1 Axes>"
      ]
     },
     "metadata": {},
     "output_type": "display_data"
    }
   ],
   "source": [
    "plt.figure(figsize=(7, 5))\n",
    "plt.plot(sales_profit_trend.index, sales_profit_trend['Sales'], label='Sales', color='#1f77b4', linewidth=2.5, marker='o')\n",
    "plt.plot(sales_profit_trend.index, sales_profit_trend['Profit'], label='Profit', color='#2ca02c', linewidth=2.5, marker='o')\n",
    "plt.title('Sales and Profit Trend Over Time', fontsize=16, fontweight='bold', color='darkblue')\n",
    "plt.xlabel('Year', fontsize=12, fontweight='bold')\n",
    "plt.ylabel('Amount ($)', fontsize=12, fontweight='bold')\n",
    "plt.grid(True, linestyle='--', alpha=0.7)\n",
    "plt.legend(loc='upper left', fontsize=12)\n",
    "plt.xticks(sales_profit_trend.index, rotation=45)\n",
    "plt.tight_layout()\n",
    "plt.show()"
   ]
  },
  {
   "cell_type": "markdown",
   "id": "93cc7071-788a-41f3-bef0-8c468fc9c32c",
   "metadata": {},
   "source": [
    "### Report : Sales and Profit Trend \n",
    "\n",
    "This chart illustrates the trend of sales and profit over time, using a line chart for clear comparison. The blue line represents sales, and the green line represents profit. The chart effectively visualizes the financial performance across different years, highlighting key trends and fluctuations. Sales and Profit: The lines track sales and profit values over time, with markers indicating data points.\n",
    "Time Period: The x-axis shows the years, and the y-axis represents the monetary value in dollars. This visualization helps in understanding how sales and profit have evolved, enabling better forecasting and strategy planning.\n",
    "\n"
   ]
  },
  {
   "cell_type": "markdown",
   "id": "baec9308-faa5-48ce-9c47-f5bfe3ab42ac",
   "metadata": {},
   "source": [
    "### Report: Sales and Profit Trend Over Time (2014-2017)\n",
    "\n",
    "---\n",
    "\n",
    "### Objective:\n",
    "To analyze the trend of sales and profit from 2014 to 2017 and identify patterns in performance.\n",
    "\n",
    "---\n",
    "\n",
    "### Key Findings:\n",
    "\n",
    "1. **Consistent Year-over-Year Growth**:\n",
    "   - Sales increased steadily from **$484,247 in 2014** to **$733,215 in 2017**, reflecting a strong upward trajectory.\n",
    "   - Profit rose from **$101,975 in 2014** to **$181,052 in 2017**, demonstrating effective cost management and revenue generation.\n",
    "\n",
    "2. **Accelerated Growth in Later Years**:\n",
    "   - The highest jump in sales occurred between **2015 and 2016**, with an increase of approximately **29.4%**.\n",
    "   - Profit saw a similar trend, with the highest growth between **2016 and 2017**, increasing by around **24.3%**.\n",
    "\n",
    "3. **Stable and Predictable Performance**:\n",
    "   - The smooth and consistent upward trend suggests that the business is operating efficiently with no major disruptions or losses.\n",
    "\n",
    "---\n",
    "\n",
    "### Visual Analysis:\n",
    "The line plot effectively highlights the upward trend for both sales and profit. The distinct color coding for sales and profit and the use of data markers enhance readability and help in identifying key growth points.\n",
    "\n",
    "---\n",
    "\n"
   ]
  },
  {
   "cell_type": "markdown",
   "id": "0332bc6b-6e00-4307-b6d9-4ff931ae9534",
   "metadata": {},
   "source": [
    "### 2. Which regions contribute the most to sales and profit?"
   ]
  },
  {
   "cell_type": "code",
   "execution_count": 385,
   "id": "b4c078bd-0f39-49b0-b2a1-b106dd61de84",
   "metadata": {},
   "outputs": [
    {
     "data": {
      "text/plain": [
       "['South', 'West', 'Central', 'East']\n",
       "Categories (4, object): ['Central', 'East', 'South', 'West']"
      ]
     },
     "execution_count": 385,
     "metadata": {},
     "output_type": "execute_result"
    }
   ],
   "source": [
    "Final_Data[\"Region\"].unique()"
   ]
  },
  {
   "cell_type": "code",
   "execution_count": 387,
   "id": "d56383f0-fb07-4856-a99c-fea2599a232e",
   "metadata": {},
   "outputs": [],
   "source": [
    "region_sales_profit = Final_Data.groupby(['Region'], observed=False)[['Sales', 'Profit']].sum()\n",
    "top_region_sales = region_sales_profit.sort_values(by='Sales', ascending=False)\n"
   ]
  },
  {
   "cell_type": "code",
   "execution_count": 389,
   "id": "1568cd46-4cfc-498a-a51c-93fb6ad6dd46",
   "metadata": {},
   "outputs": [
    {
     "name": "stdout",
     "output_type": "stream",
     "text": [
      "Top Regions by Sales:\n"
     ]
    },
    {
     "data": {
      "text/html": [
       "<div>\n",
       "<style scoped>\n",
       "    .dataframe tbody tr th:only-of-type {\n",
       "        vertical-align: middle;\n",
       "    }\n",
       "\n",
       "    .dataframe tbody tr th {\n",
       "        vertical-align: top;\n",
       "    }\n",
       "\n",
       "    .dataframe thead th {\n",
       "        text-align: right;\n",
       "    }\n",
       "</style>\n",
       "<table border=\"1\" class=\"dataframe\">\n",
       "  <thead>\n",
       "    <tr style=\"text-align: right;\">\n",
       "      <th></th>\n",
       "      <th>Sales</th>\n",
       "    </tr>\n",
       "    <tr>\n",
       "      <th>Region</th>\n",
       "      <th></th>\n",
       "    </tr>\n",
       "  </thead>\n",
       "  <tbody>\n",
       "    <tr>\n",
       "      <th>West</th>\n",
       "      <td>725457.8245</td>\n",
       "    </tr>\n",
       "    <tr>\n",
       "      <th>East</th>\n",
       "      <td>678781.2400</td>\n",
       "    </tr>\n",
       "    <tr>\n",
       "      <th>Central</th>\n",
       "      <td>501239.8908</td>\n",
       "    </tr>\n",
       "    <tr>\n",
       "      <th>South</th>\n",
       "      <td>391721.9050</td>\n",
       "    </tr>\n",
       "  </tbody>\n",
       "</table>\n",
       "</div>"
      ],
      "text/plain": [
       "               Sales\n",
       "Region              \n",
       "West     725457.8245\n",
       "East     678781.2400\n",
       "Central  501239.8908\n",
       "South    391721.9050"
      ]
     },
     "execution_count": 389,
     "metadata": {},
     "output_type": "execute_result"
    }
   ],
   "source": [
    "\n",
    "print(\"Top Regions by Sales:\")\n",
    "top_region_sales[['Sales']].head()\n"
   ]
  },
  {
   "cell_type": "code",
   "execution_count": 391,
   "id": "1d910ab7-39bf-4a99-99e7-c00d8ce73261",
   "metadata": {},
   "outputs": [
    {
     "name": "stderr",
     "output_type": "stream",
     "text": [
      "C:\\Users\\Chethan Vakiti\\AppData\\Local\\Temp\\ipykernel_29596\\3942623877.py:2: FutureWarning: The default of observed=False is deprecated and will be changed to True in a future version of pandas. Pass observed=False to retain current behavior or observed=True to adopt the future default and silence this warning.\n",
      "  region_performance = Final_Data.groupby('Region')[['Sales', 'Profit']].sum().reset_index()\n"
     ]
    },
    {
     "data": {
      "image/png": "[encoded data removed]",
      "text/plain": [
       "<Figure size 800x800 with 2 Axes>"
      ]
     },
     "metadata": {},
     "output_type": "display_data"
    }
   ],
   "source": [
    "# Calculate sales and profit by region\n",
    "region_performance = Final_Data.groupby('Region')[['Sales', 'Profit']].sum().reset_index()\n",
    "\n",
    "# Sort the data for regions by Sales and Profit\n",
    "top_regions_sales = region_performance.sort_values(by='Sales', ascending=False).head()\n",
    "top_regions_profit = region_performance.sort_values(by='Profit', ascending=False).head()\n",
    "\n",
    "# Create subplots\n",
    "fig, ax = plt.subplots(2, 1, figsize=(8, 8))\n",
    "\n",
    "# Plotting Sales by Region (Stacked Bar Chart)\n",
    "top_regions_sales.plot(x='Region', y=['Sales', 'Profit'], kind='bar', stacked=True, ax=ax[0], color=['#1f77b4', '#2ca02c'])\n",
    "ax[0].set_title('Top Regions by Sales and Profit', fontsize=14, color='darkblue')\n",
    "ax[0].set_ylabel('Amount ($)', fontsize=12)\n",
    "ax[0].set_xlabel('Region', fontsize=12)\n",
    "\n",
    "# Plotting Profit by Region (Stacked Bar Chart)\n",
    "top_regions_profit.plot(x='Region', y=['Sales', 'Profit'], kind='bar', stacked=True, ax=ax[1], color=['#1f77b4', '#2ca02c'])\n",
    "ax[1].set_title('Top Regions by Profit and Sales', fontsize=14, color='darkblue')\n",
    "ax[1].set_title('Top Regions by Profit and Sales', fontsize=14, color='darkblue')\n",
    "ax[1].set_ylabel('Amount ($)', fontsize=12)\n",
    "ax[1].set_xlabel('Region', fontsize=12)\n",
    "\n",
    "# Show the plot\n",
    "plt.tight_layout()\n",
    "plt.show()\n"
   ]
  },
  {
   "cell_type": "markdown",
   "id": "8e59a6d3-6d92-4e26-863f-a149511b23dc",
   "metadata": {},
   "source": [
    "### Report: Regional Contribution to Sales and Profit\n",
    "\n",
    "#### Objective:\n",
    "To identify which regions contribute the most to sales and profit, enabling better decision-making for resource allocation and strategic planning.\n",
    "\n",
    "---\n",
    "\n",
    "### Key Findings:\n",
    "\n",
    "1. **Top Regions by Sales**:\n",
    "   - The **West** region leads in sales, followed by the **East** and **Central** regions.\n",
    "   - The **South** region shows the lowest sales performance.\n",
    "\n",
    "2. **Top Regions by Profit**:\n",
    "   - The **West** region also dominates in profit generation, indicating effective cost management or high-margin products.\n",
    "   - The **East** and **Central** regions follow closely in profit contributions.\n",
    "   - The **South** region exhibits lower profit, possibly due to higher costs or discounts.\n",
    "\n",
    "---\n",
    "\n",
    "### Visual Analysis:\n",
    "- **Stacked Bar Charts** effectively highlight the regions with the highest sales and profit contributions.\n",
    "- The charts provide a clear visual representation of how sales and profit are distributed across different regions.\n",
    "\n",
    "---\n",
    "\n"
   ]
  },
  {
   "cell_type": "markdown",
   "id": "051a6fa5-0c83-4e79-b52a-4071cb64a239",
   "metadata": {},
   "source": [
    "### 3. Which cities and states are the most profitable?"
   ]
  },
  {
   "cell_type": "code",
   "execution_count": 394,
   "id": "41c42bfa-4cec-4266-be3d-4de7745e3ea1",
   "metadata": {},
   "outputs": [
    {
     "data": {
      "text/html": [
       "<div>\n",
       "<style scoped>\n",
       "    .dataframe tbody tr th:only-of-type {\n",
       "        vertical-align: middle;\n",
       "    }\n",
       "\n",
       "    .dataframe tbody tr th {\n",
       "        vertical-align: top;\n",
       "    }\n",
       "\n",
       "    .dataframe thead th {\n",
       "        text-align: right;\n",
       "    }\n",
       "</style>\n",
       "<table border=\"1\" class=\"dataframe\">\n",
       "  <thead>\n",
       "    <tr style=\"text-align: right;\">\n",
       "      <th></th>\n",
       "      <th>City</th>\n",
       "      <th>State</th>\n",
       "      <th>Profit</th>\n",
       "    </tr>\n",
       "  </thead>\n",
       "  <tbody>\n",
       "    <tr>\n",
       "      <th>380</th>\n",
       "      <td>New York City</td>\n",
       "      <td>New York</td>\n",
       "      <td>68182.143601</td>\n",
       "    </tr>\n",
       "    <tr>\n",
       "      <th>312</th>\n",
       "      <td>Los Angeles</td>\n",
       "      <td>California</td>\n",
       "      <td>33626.789903</td>\n",
       "    </tr>\n",
       "    <tr>\n",
       "      <th>517</th>\n",
       "      <td>Seattle</td>\n",
       "      <td>Washington</td>\n",
       "      <td>30412.922520</td>\n",
       "    </tr>\n",
       "    <tr>\n",
       "      <th>503</th>\n",
       "      <td>San Francisco</td>\n",
       "      <td>California</td>\n",
       "      <td>20156.635881</td>\n",
       "    </tr>\n",
       "    <tr>\n",
       "      <th>430</th>\n",
       "      <td>Philadelphia</td>\n",
       "      <td>Pennsylvania</td>\n",
       "      <td>19372.581831</td>\n",
       "    </tr>\n",
       "  </tbody>\n",
       "</table>\n",
       "</div>"
      ],
      "text/plain": [
       "              City         State        Profit\n",
       "380  New York City      New York  68182.143601\n",
       "312    Los Angeles    California  33626.789903\n",
       "517        Seattle    Washington  30412.922520\n",
       "503  San Francisco    California  20156.635881\n",
       "430   Philadelphia  Pennsylvania  19372.581831"
      ]
     },
     "execution_count": 394,
     "metadata": {},
     "output_type": "execute_result"
    }
   ],
   "source": [
    "city_state_profit = Final_Data.groupby([\"City\",\"State\"])[\"Profit\"].sum().reset_index()\n",
    "\n",
    "profit = city_state_profit.sort_values(by = \"Profit\", ascending = False).head()\n",
    "\n",
    "profit"
   ]
  },
  {
   "cell_type": "code",
   "execution_count": 396,
   "id": "334518eb-d5aa-4afb-aff6-36a171f62294",
   "metadata": {},
   "outputs": [
    {
     "data": {
      "image/png": "[encoded data removed]",
      "text/plain": [
       "<Figure size 800x600 with 1 Axes>"
      ]
     },
     "metadata": {},
     "output_type": "display_data"
    }
   ],
   "source": [
    "# Sort the data for top cities and states by profit\n",
    "top_city_state_profit = city_state_profit.sort_values(by = \"Profit\", ascending = False).head()\n",
    "\n",
    "# Create a bar chart\n",
    "fig,ax = plt.subplots(figsize=(8,6))\n",
    "\n",
    "# Plotting profit by city and state(Bar chart)\n",
    "top_city_state_profit.plot(kind = \"bar\", x =\"City\", y = \"Profit\", ax = ax ,color='#2ca02c' )\n",
    "\n",
    "# Set the title and labels\n",
    "ax.set_title('Top Cities and States by Profit', fontsize=14, color='darkblue')\n",
    "ax.set_ylabel('Profit ($)', fontsize=12)\n",
    "ax.set_xlabel('City', fontsize=12)\n",
    "\n",
    "# Rotate the x-axis labels for better readability\n",
    "plt.xticks(rotation=45, ha='right')\n",
    "\n",
    "# Show the plot\n",
    "plt.tight_layout()\n",
    "plt.show()\n"
   ]
  },
  {
   "cell_type": "markdown",
   "id": "af46ff8e-a1f0-4e06-82b3-e146dfcf8390",
   "metadata": {},
   "source": [
    "### Report: Most Profitable Cities and States\n",
    "\n",
    "The analysis identifies the top cities and states contributing the most to profit. The horizontal bar chart showcases the most profitable city-state pairs, with higher profit values clearly visible. Cities with the highest profits stand out, providing a quick comparison of profitability. The green bars represent total profit, offering insights into key areas of business performance."
   ]
  },
  {
   "cell_type": "markdown",
   "id": "a4ccc1f5-fd93-4f36-9efe-de48c4a5754e",
   "metadata": {},
   "source": [
    "### Report: Top Cities and States by Profit\n",
    "\n",
    "---\n",
    "\n",
    "### Objective:\n",
    "To identify the most profitable cities and states, aiding in strategic decision-making and targeted marketing efforts.\n",
    "\n",
    "---\n",
    "\n",
    "### Key Findings:\n",
    "\n",
    "1. **Leading Cities in Profit Generation**:\n",
    "   - **New York City, New York** tops the list with **$68,182** in profit.\n",
    "   - **Los Angeles, California** follows with **$33,627**, while **Seattle, Washington** secures the third position with **$30,413**.\n",
    "\n",
    "2. **Dominance of Key States**:\n",
    "   - California appears twice in the top five with **Los Angeles** and **San Francisco**, indicating a strong market presence in the state.\n",
    "   - Other states like **New York**, **Washington**, and **Pennsylvania** also contribute significantly.\n",
    "\n",
    "3. **Concentration in Major Urban Hubs**:\n",
    "   - The most profitable cities are major metropolitan areas with high customer density and robust business environments.\n",
    "\n",
    "---\n",
    "\n",
    "### Visual Analysis:\n",
    "\n",
    "- The bar chart effectively displays the top-performing cities and their associated profit margins.\n",
    "- The use of green bars enhances clarity, while rotating the x-axis labels improves readability.\n",
    "\n",
    "---"
   ]
  },
  {
   "cell_type": "markdown",
   "id": "6849d6ad-cf31-47ed-838d-c002d8ab01af",
   "metadata": {},
   "source": [
    "### 4. Which products are the most popular (highest quantity sold)?"
   ]
  },
  {
   "cell_type": "code",
   "execution_count": 450,
   "id": "dd738785-3fdb-4f42-9ba3-02ce7d87017f",
   "metadata": {},
   "outputs": [
    {
     "data": {
      "text/html": [
       "<div>\n",
       "<style scoped>\n",
       "    .dataframe tbody tr th:only-of-type {\n",
       "        vertical-align: middle;\n",
       "    }\n",
       "\n",
       "    .dataframe tbody tr th {\n",
       "        vertical-align: top;\n",
       "    }\n",
       "\n",
       "    .dataframe thead th {\n",
       "        text-align: right;\n",
       "    }\n",
       "</style>\n",
       "<table border=\"1\" class=\"dataframe\">\n",
       "  <thead>\n",
       "    <tr style=\"text-align: right;\">\n",
       "      <th></th>\n",
       "      <th>Product Name</th>\n",
       "      <th>Quantity</th>\n",
       "    </tr>\n",
       "  </thead>\n",
       "  <tbody>\n",
       "    <tr>\n",
       "      <th>1499</th>\n",
       "      <td>Staples</td>\n",
       "      <td>215</td>\n",
       "    </tr>\n",
       "    <tr>\n",
       "      <th>1493</th>\n",
       "      <td>Staple envelope</td>\n",
       "      <td>170</td>\n",
       "    </tr>\n",
       "    <tr>\n",
       "      <th>537</th>\n",
       "      <td>Easy-staple paper</td>\n",
       "      <td>150</td>\n",
       "    </tr>\n",
       "    <tr>\n",
       "      <th>1500</th>\n",
       "      <td>Staples in misc. colors</td>\n",
       "      <td>86</td>\n",
       "    </tr>\n",
       "    <tr>\n",
       "      <th>942</th>\n",
       "      <td>KI Adjustable-Height Table</td>\n",
       "      <td>74</td>\n",
       "    </tr>\n",
       "  </tbody>\n",
       "</table>\n",
       "</div>"
      ],
      "text/plain": [
       "                    Product Name  Quantity\n",
       "1499                     Staples       215\n",
       "1493             Staple envelope       170\n",
       "537            Easy-staple paper       150\n",
       "1500     Staples in misc. colors        86\n",
       "942   KI Adjustable-Height Table        74"
      ]
     },
     "execution_count": 450,
     "metadata": {},
     "output_type": "execute_result"
    }
   ],
   "source": [
    "# Grouping the data by Product Name and summing the Quantity\n",
    "product_quantity = Final_Data.groupby('Product Name')['Quantity'].sum().reset_index()\n",
    "\n",
    "# Sorting the data by Quantity in descending order to get the most popular products\n",
    "top_products = product_quantity.sort_values(by='Quantity', ascending=False).head(5)\n",
    "\n",
    "# Display the result\n",
    "top_products\n"
   ]
  },
  {
   "cell_type": "code",
   "execution_count": 416,
   "id": "79b577b4-0a1e-46ba-ace1-aad952afd8ae",
   "metadata": {},
   "outputs": [
    {
     "data": {
      "image/png": "[encoded data removed]",
      "text/plain": [
       "<Figure size 600x600 with 1 Axes>"
      ]
     },
     "metadata": {},
     "output_type": "display_data"
    }
   ],
   "source": [
    "top_products = product_quantity.sort_values(by='Quantity', ascending=False).head()\n",
    "\n",
    "fig, ax = plt.subplots(figsize=(6, 6))\n",
    "\n",
    "ax.pie(top_products['Quantity'], labels=top_products['Product Name'], autopct='%1.1f%%', colors=['#1f77b4', '#2ca02c', '#ff7f0e', '#d62728', '#9467bd'], startangle=90)\n",
    "\n",
    "ax.set_title('Top Products by Quantity Sold', fontsize=14, color='darkblue')\n",
    "\n",
    "# Show the plot\n",
    "plt.tight_layout()\n",
    "plt.show()\n"
   ]
  },
  {
   "cell_type": "markdown",
   "id": "c0ffd44e-ef7e-46ac-91f7-42fd9498f43c",
   "metadata": {},
   "source": [
    "### Report: Most Popular Products by Quantity Sold\n",
    "\n",
    "The analysis highlights the top products based on the quantity sold. A pie chart was used to display the proportion of each product's sales, with each product represented by a different color. The blue segment represents the most popular product, while the green and other colors represent the subsequent top products.\n",
    "\n",
    "This chart effectively showcases the share of each product in the total quantity sold, providing a clear view of the most popular products in the dataset. The visual representation allows easy comparison of product popularity in terms of volume."
   ]
  },
  {
   "cell_type": "markdown",
   "id": "11d36673-2193-4fa7-8ef7-0f84e88e2f4d",
   "metadata": {},
   "source": [
    "### Report: Top Products by Quantity Sold\n",
    "\n",
    "---\n",
    "\n",
    "### Objective:\n",
    "To identify the most popular products based on the highest quantity sold, aiding in inventory management and sales strategy.\n",
    "\n",
    "---\n",
    "\n",
    "### Key Findings:\n",
    "\n",
    "1. **Staples Dominate the Market**:\n",
    "   - **Staples** lead with **215 units sold**, followed closely by **Staple Envelope** with **170 units** and **Easy-Staple Paper** with **150 units**.\n",
    "\n",
    "2. **Diverse Product Range**:\n",
    "   - Other popular products include **Staples in Miscellaneous Colors** (86 units) and **KI Adjustable-Height Table** (74 units).\n",
    "\n",
    "3. **High Demand for Office Supplies**:\n",
    "   - The top three products are related to office stationery, suggesting a high demand for essential office items.\n",
    "\n",
    "---\n",
    "\n",
    "### Visual Analysis:\n",
    "\n",
    "- The pie chart effectively displays the distribution of sales for the top five products.\n",
    "- The use of distinct colors enhances clarity, while the percentage labels provide precise insights into each product's contribution to total sales.\n",
    "\n",
    "---\n"
   ]
  },
  {
   "cell_type": "markdown",
   "id": "b9e2a93a-f849-41ce-bdff-99207625635a",
   "metadata": {},
   "source": [
    "### 5. How do discounts affect profit margins across different categories and sub-categories?"
   ]
  },
  {
   "cell_type": "markdown",
   "id": "d5028bc6-52eb-417a-88d2-b71f5f108d91",
   "metadata": {},
   "source": [
    "Visualizing the relationship between discounts and profit can reveal if heavy discounting leads to losses or boosts sales in specific segments.\n"
   ]
  },
  {
   "cell_type": "code",
   "execution_count": 420,
   "id": "35ab128c-14c9-4299-bb70-86d623c2e3f5",
   "metadata": {},
   "outputs": [
    {
     "name": "stderr",
     "output_type": "stream",
     "text": [
      "C:\\Users\\Chethan Vakiti\\AppData\\Local\\Temp\\ipykernel_29596\\2594424935.py:2: FutureWarning: The default value of observed=False is deprecated and will change to observed=True in a future version of pandas. Specify observed=False to silence this warning and retain the current behavior\n",
      "  pivot = Final_Data.pivot_table(values='Profit', index='Category', columns='Discount', aggfunc='mean')\n"
     ]
    },
    {
     "data": {
      "image/png": "[encoded data removed]",
      "text/plain": [
       "<Figure size 1200x600 with 2 Axes>"
      ]
     },
     "metadata": {},
     "output_type": "display_data"
    }
   ],
   "source": [
    "# Heatmap for Discount vs Profit across Categories\n",
    "pivot = Final_Data.pivot_table(values='Profit', index='Category', columns='Discount', aggfunc='mean')\n",
    "plt.figure(figsize=(12, 6))\n",
    "sns.heatmap(pivot, cmap='YlGnBu', annot=True, fmt='.2f')\n",
    "plt.title(\"Discount vs Profit Across Categories\")\n",
    "plt.show()"
   ]
  },
  {
   "cell_type": "markdown",
   "id": "d0274f29-d522-47da-938e-22d65c8eaf95",
   "metadata": {},
   "source": [
    "### Report: Discount vs. Profit Across Categories (Heatmap Analysis)\n",
    "\n",
    "The heatmap visualization provides insights into how different levels of discounts impact profit across various product categories.\n",
    "\n",
    "1. **Overall Trend**:\n",
    "   - As discounts increase, there is a noticeable decline in profit across all categories.\n",
    "   - Higher discounts (above 30%) tend to result in significant losses, especially in categories like \"Furniture\" and \"Technology.\"\n",
    "\n",
    "2. **Category-Specific Insights**:\n",
    "   - **Office Supplies**: Shows relatively stable profit margins even with moderate discounts, indicating resilience to price reductions.\n",
    "   - **Technology**: Experiences sharp profit declines as discounts increase, suggesting that aggressive discounting erodes profitability.\n",
    "   - **Furniture**: Suffers substantial losses with higher discount levels, indicating that heavy discounts are unsustainable for this category.\n",
    "\n",
    "3. **Identifying Optimal Discount Levels**:\n",
    "   - Moderate discounts (between 5% and 15%) appear to maintain profitability, especially in the \"Office Supplies\" category.\n",
    "   - Discounts beyond 30% consistently lead to negative profit margins across all categories.\n",
    "\n",
    "4. **Recommendations**:\n",
    "   - Limit high discounts, especially for the \"Furniture\" and \"Technology\" categories.\n",
    "   - Implement strategic discounting in the \"Office Supplies\" category to maximize sales without significantly impacting profit.\n",
    "   - Conduct further analysis on specific products within each category to fine-tune discount strategies.\n",
    "\n"
   ]
  },
  {
   "cell_type": "code",
   "execution_count": 423,
   "id": "d478d002-e671-48a1-a181-e7b7866e2ae0",
   "metadata": {},
   "outputs": [
    {
     "data": {
      "text/plain": [
       "['Consumer', 'Corporate', 'Home Office']\n",
       "Categories (3, object): ['Consumer', 'Corporate', 'Home Office']"
      ]
     },
     "execution_count": 423,
     "metadata": {},
     "output_type": "execute_result"
    }
   ],
   "source": [
    "Final_Data[\"Segment\"].unique()"
   ]
  },
  {
   "cell_type": "markdown",
   "id": "b87b8859-984c-458b-8660-fdeb3e3ca1d0",
   "metadata": {},
   "source": [
    "### 6. What is the customer segmentation based on sales and profit contribution?\n",
    "\n",
    "Analyzing customer segments and their corresponding sales and profit contributions can help identify high-value customers and tailor marketing strategies.\n",
    "\n"
   ]
  },
  {
   "cell_type": "code",
   "execution_count": 426,
   "id": "28e1412d-18f9-428c-a63d-896d582b1201",
   "metadata": {},
   "outputs": [
    {
     "name": "stderr",
     "output_type": "stream",
     "text": [
      "C:\\Users\\Chethan Vakiti\\AppData\\Local\\Temp\\ipykernel_29596\\3435362508.py:2: FutureWarning: The default of observed=False is deprecated and will be changed to True in a future version of pandas. Pass observed=False to retain current behavior or observed=True to adopt the future default and silence this warning.\n",
      "  segment_performance = Final_Data.groupby('Segment')[['Sales', 'Profit']].sum().reset_index()\n"
     ]
    },
    {
     "data": {
      "image/png": "[encoded data removed]",
      "text/plain": [
       "<Figure size 800x500 with 1 Axes>"
      ]
     },
     "metadata": {},
     "output_type": "display_data"
    }
   ],
   "source": [
    "# Calculate sales and profit by customer segment\n",
    "segment_performance = Final_Data.groupby('Segment')[['Sales', 'Profit']].sum().reset_index()\n",
    "\n",
    "# Bar plot for Sales and Profit by Customer Segment\n",
    "plt.figure(figsize=(8, 5))\n",
    "sns.barplot(data=segment_performance, x='Segment', y='Sales', color='skyblue', label='Sales')\n",
    "sns.barplot(data=segment_performance, x='Segment', y='Profit', color='orange', alpha=0.7, label='Profit')\n",
    "plt.title('Sales and Profit Contribution by Customer Segment')\n",
    "plt.legend()\n",
    "plt.show()\n"
   ]
  },
  {
   "cell_type": "markdown",
   "id": "f65bdafe-1717-4c6a-ba76-a6eef9caa01b",
   "metadata": {},
   "source": [
    "### 6. What is the customer segmentation based on sales and profit contribution?\n",
    "\n",
    "Analyzing customer segments and their corresponding sales and profit contributions can help identify high-value customers and tailor marketing strategies.\n",
    "\n",
    "### Report: Sales and Profit Contribution by Customer Segment\n",
    "\n",
    "1. **Consumer Segment**:  \n",
    "   - This segment contributes the highest sales volume.  \n",
    "   - However, the profit margin is moderate, indicating potential high costs or heavy discounts affecting profitability.  \n",
    "\n",
    "2. **Corporate Segment**:  \n",
    "   - While sales are lower than the Consumer segment, the Corporate segment delivers a higher profit margin.  \n",
    "   - This suggests better pricing strategies or more cost-effective operations.  \n",
    "\n",
    "3. **Home Office Segment**:  \n",
    "   - The lowest sales and profit contribution among the three segments.  \n",
    "   - This segment might benefit from targeted marketing strategies to boost performance.  \n",
    "\n",
    "### Key Recommendations:\n",
    "- Focus on optimizing costs for the Consumer segment to improve profit margins.  \n",
    "- Continue leveraging the Corporate segment's efficiency while exploring strategies to increase sales.  \n",
    "- Implement targeted campaigns and customer engagement initiatives to enhance the Home Office segment's performance.  \n",
    "\n",
    "Let me know if you'd like to add more details or visual enhancements.\n"
   ]
  },
  {
   "cell_type": "markdown",
   "id": "836dbe83-cd72-4eba-91fd-240802325e94",
   "metadata": {},
   "source": [
    "### 7. What is the shipping mode's impact on delivery time and customer satisfaction?\n",
    "\n",
    "By analyzing the relationship between ship mode, delivery time (difference between Order Date and Ship Date), and profit, you can identify the most efficient and cost-effective shipping methods.\n",
    "\n"
   ]
  },
  {
   "cell_type": "code",
   "execution_count": 432,
   "id": "33d6d261-1392-4cdb-bb47-4d597b737994",
   "metadata": {},
   "outputs": [
    {
     "data": {
      "image/png": "[encoded data removed]",
      "text/plain": [
       "<Figure size 800x500 with 1 Axes>"
      ]
     },
     "metadata": {},
     "output_type": "display_data"
    }
   ],
   "source": [
    "# Calculate delivery time\n",
    "Final_Data['Delivery Time'] = (Final_Data['Ship Date'] - Final_Data['Order Date']).dt.days\n",
    "\n",
    "# Box plot for Delivery Time by Shipping Mode\n",
    "plt.figure(figsize=(8, 5))\n",
    "sns.boxplot(data=Final_Data, x='Ship Mode', y='Delivery Time')\n",
    "plt.title('Impact of Shipping Mode on Delivery Time')\n",
    "plt.show()"
   ]
  },
  {
   "cell_type": "code",
   "execution_count": 435,
   "id": "6e84ef6d-0ea4-49f4-b601-203660c51f21",
   "metadata": {},
   "outputs": [
    {
     "name": "stderr",
     "output_type": "stream",
     "text": [
      "C:\\Users\\Chethan Vakiti\\AppData\\Local\\Temp\\ipykernel_29596\\109887989.py:3: FutureWarning: \n",
      "\n",
      "Passing `palette` without assigning `hue` is deprecated and will be removed in v0.14.0. Assign the `x` variable to `hue` and set `legend=False` for the same effect.\n",
      "\n",
      "  sns.violinplot(data=Final_Data, x='Ship Mode', y='Delivery Time', inner='quartile', palette='pastel')\n"
     ]
    },
    {
     "data": {
      "image/png": "[encoded data removed]",
      "text/plain": [
       "<Figure size 800x500 with 1 Axes>"
      ]
     },
     "metadata": {},
     "output_type": "display_data"
    }
   ],
   "source": [
    "# Violin plot for delivery time distribution\n",
    "plt.figure(figsize=(8, 5))\n",
    "sns.violinplot(data=Final_Data, x='Ship Mode', y='Delivery Time', inner='quartile', palette='pastel')\n",
    "plt.title('Distribution of Delivery Time by Shipping Mode')\n",
    "plt.show()"
   ]
  },
  {
   "cell_type": "code",
   "execution_count": 437,
   "id": "a18e17c4-90bd-4a23-8c8b-c4e9ebe8ff68",
   "metadata": {},
   "outputs": [
    {
     "name": "stderr",
     "output_type": "stream",
     "text": [
      "C:\\Users\\Chethan Vakiti\\AppData\\Local\\Temp\\ipykernel_29596\\2002721279.py:3: FutureWarning: The default of observed=False is deprecated and will be changed to True in a future version of pandas. Pass observed=False to retain current behavior or observed=True to adopt the future default and silence this warning.\n",
      "  avg_delivery = Final_Data.groupby('Ship Mode')['Delivery Time'].mean().reset_index()\n",
      "C:\\Users\\Chethan Vakiti\\AppData\\Local\\Temp\\ipykernel_29596\\2002721279.py:4: FutureWarning: \n",
      "\n",
      "Passing `palette` without assigning `hue` is deprecated and will be removed in v0.14.0. Assign the `x` variable to `hue` and set `legend=False` for the same effect.\n",
      "\n",
      "  sns.barplot(data=avg_delivery, x='Ship Mode', y='Delivery Time', palette='muted')\n"
     ]
    },
    {
     "data": {
      "image/png": "[encoded data removed]",
      "text/plain": [
       "<Figure size 800x500 with 1 Axes>"
      ]
     },
     "metadata": {},
     "output_type": "display_data"
    }
   ],
   "source": [
    "# Bar plot for average delivery time per shipping mode\n",
    "plt.figure(figsize=(8, 5))\n",
    "avg_delivery = Final_Data.groupby('Ship Mode')['Delivery Time'].mean().reset_index()\n",
    "sns.barplot(data=avg_delivery, x='Ship Mode', y='Delivery Time', palette='muted')\n",
    "plt.title('Average Delivery Time by Shipping Mode')\n",
    "plt.show()"
   ]
  },
  {
   "cell_type": "code",
   "execution_count": null,
   "id": "700e012e-b225-48bd-92d2-4028d841d41e",
   "metadata": {},
   "outputs": [],
   "source": []
  },
  {
   "cell_type": "code",
   "execution_count": null,
   "id": "40d03689-fa4f-4c6d-a34b-e67c01d32d05",
   "metadata": {},
   "outputs": [],
   "source": []
  }
 ],
 "metadata": {
  "kernelspec": {
   "display_name": "Python [conda env:base] *",
   "language": "python",
   "name": "conda-base-py"
  },
  "language_info": {
   "codemirror_mode": {
    "name": "ipython",
    "version": 3
   },
   "file_extension": ".py",
   "mimetype": "text/x-python",
   "name": "python",
   "nbconvert_exporter": "python",
   "pygments_lexer": "ipython3",
   "version": "3.12.7"
  }
 },
 "nbformat": 4,
 "nbformat_minor": 5
}
